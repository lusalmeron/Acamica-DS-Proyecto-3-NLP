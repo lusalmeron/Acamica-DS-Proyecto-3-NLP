{
 "cells": [
  {
   "cell_type": "code",
   "execution_count": 1,
   "metadata": {},
   "outputs": [],
   "source": [
    "import pandas as pd\n",
    "import numpy as np\n",
    "import matplotlib.pyplot as plt\n",
    "import seaborn as sns\n",
    "sns.set()"
   ]
  },
  {
   "cell_type": "code",
   "execution_count": 2,
   "metadata": {},
   "outputs": [
    {
     "data": {
      "text/html": [
       "<div>\n",
       "<style scoped>\n",
       "    .dataframe tbody tr th:only-of-type {\n",
       "        vertical-align: middle;\n",
       "    }\n",
       "\n",
       "    .dataframe tbody tr th {\n",
       "        vertical-align: top;\n",
       "    }\n",
       "\n",
       "    .dataframe thead th {\n",
       "        text-align: right;\n",
       "    }\n",
       "</style>\n",
       "<table border=\"1\" class=\"dataframe\">\n",
       "  <thead>\n",
       "    <tr style=\"text-align: right;\">\n",
       "      <th></th>\n",
       "      <th>review_id</th>\n",
       "      <th>product_id</th>\n",
       "      <th>reviewer_id</th>\n",
       "      <th>stars</th>\n",
       "      <th>review_body</th>\n",
       "      <th>review_title</th>\n",
       "      <th>language</th>\n",
       "      <th>product_category</th>\n",
       "    </tr>\n",
       "  </thead>\n",
       "  <tbody>\n",
       "    <tr>\n",
       "      <th>0</th>\n",
       "      <td>es_0491108</td>\n",
       "      <td>product_es_0296024</td>\n",
       "      <td>reviewer_es_0999081</td>\n",
       "      <td>1</td>\n",
       "      <td>Nada bueno se me fue ka pantalla en menos de 8...</td>\n",
       "      <td>television Nevir</td>\n",
       "      <td>es</td>\n",
       "      <td>electronics</td>\n",
       "    </tr>\n",
       "    <tr>\n",
       "      <th>1</th>\n",
       "      <td>es_0869872</td>\n",
       "      <td>product_es_0922286</td>\n",
       "      <td>reviewer_es_0216771</td>\n",
       "      <td>1</td>\n",
       "      <td>Horrible, nos tuvimos que comprar otro porque ...</td>\n",
       "      <td>Dinero tirado a la basura con esta compra</td>\n",
       "      <td>es</td>\n",
       "      <td>electronics</td>\n",
       "    </tr>\n",
       "    <tr>\n",
       "      <th>2</th>\n",
       "      <td>es_0811721</td>\n",
       "      <td>product_es_0474543</td>\n",
       "      <td>reviewer_es_0929213</td>\n",
       "      <td>1</td>\n",
       "      <td>Te obligan a comprar dos unidades y te llega s...</td>\n",
       "      <td>solo llega una unidad cuando te obligan a comp...</td>\n",
       "      <td>es</td>\n",
       "      <td>drugstore</td>\n",
       "    </tr>\n",
       "    <tr>\n",
       "      <th>3</th>\n",
       "      <td>es_0359921</td>\n",
       "      <td>product_es_0656090</td>\n",
       "      <td>reviewer_es_0224702</td>\n",
       "      <td>1</td>\n",
       "      <td>No entro en descalificar al vendedor, solo pue...</td>\n",
       "      <td>PRODUCTO NO RECIBIDO.</td>\n",
       "      <td>es</td>\n",
       "      <td>wireless</td>\n",
       "    </tr>\n",
       "    <tr>\n",
       "      <th>4</th>\n",
       "      <td>es_0068940</td>\n",
       "      <td>product_es_0662544</td>\n",
       "      <td>reviewer_es_0224827</td>\n",
       "      <td>1</td>\n",
       "      <td>Llega tarde y co la talla equivocada</td>\n",
       "      <td>Devuelto</td>\n",
       "      <td>es</td>\n",
       "      <td>shoes</td>\n",
       "    </tr>\n",
       "  </tbody>\n",
       "</table>\n",
       "</div>"
      ],
      "text/plain": [
       "    review_id          product_id          reviewer_id  stars  \\\n",
       "0  es_0491108  product_es_0296024  reviewer_es_0999081      1   \n",
       "1  es_0869872  product_es_0922286  reviewer_es_0216771      1   \n",
       "2  es_0811721  product_es_0474543  reviewer_es_0929213      1   \n",
       "3  es_0359921  product_es_0656090  reviewer_es_0224702      1   \n",
       "4  es_0068940  product_es_0662544  reviewer_es_0224827      1   \n",
       "\n",
       "                                         review_body  \\\n",
       "0  Nada bueno se me fue ka pantalla en menos de 8...   \n",
       "1  Horrible, nos tuvimos que comprar otro porque ...   \n",
       "2  Te obligan a comprar dos unidades y te llega s...   \n",
       "3  No entro en descalificar al vendedor, solo pue...   \n",
       "4               Llega tarde y co la talla equivocada   \n",
       "\n",
       "                                        review_title language product_category  \n",
       "0                                   television Nevir       es      electronics  \n",
       "1          Dinero tirado a la basura con esta compra       es      electronics  \n",
       "2  solo llega una unidad cuando te obligan a comp...       es        drugstore  \n",
       "3                              PRODUCTO NO RECIBIDO.       es         wireless  \n",
       "4                                           Devuelto       es            shoes  "
      ]
     },
     "execution_count": 2,
     "metadata": {},
     "output_type": "execute_result"
    }
   ],
   "source": [
    "data = pd.read_json(\"dataset_amazon/dataset_es_train.json\", lines = True)\n",
    "data.head()"
   ]
  },
  {
   "cell_type": "code",
   "execution_count": 3,
   "metadata": {},
   "outputs": [
    {
     "data": {
      "text/html": [
       "<div>\n",
       "<style scoped>\n",
       "    .dataframe tbody tr th:only-of-type {\n",
       "        vertical-align: middle;\n",
       "    }\n",
       "\n",
       "    .dataframe tbody tr th {\n",
       "        vertical-align: top;\n",
       "    }\n",
       "\n",
       "    .dataframe thead th {\n",
       "        text-align: right;\n",
       "    }\n",
       "</style>\n",
       "<table border=\"1\" class=\"dataframe\">\n",
       "  <thead>\n",
       "    <tr style=\"text-align: right;\">\n",
       "      <th></th>\n",
       "      <th>review_id</th>\n",
       "      <th>product_id</th>\n",
       "      <th>reviewer_id</th>\n",
       "      <th>stars</th>\n",
       "      <th>review_body</th>\n",
       "      <th>review_title</th>\n",
       "      <th>language</th>\n",
       "      <th>product_category</th>\n",
       "    </tr>\n",
       "  </thead>\n",
       "  <tbody>\n",
       "    <tr>\n",
       "      <th>199995</th>\n",
       "      <td>es_0715276</td>\n",
       "      <td>product_es_0317036</td>\n",
       "      <td>reviewer_es_0643604</td>\n",
       "      <td>5</td>\n",
       "      <td>Mando funciona perfectamente y cumple con toda...</td>\n",
       "      <td>Tal y como se describe</td>\n",
       "      <td>es</td>\n",
       "      <td>electronics</td>\n",
       "    </tr>\n",
       "    <tr>\n",
       "      <th>199996</th>\n",
       "      <td>es_0085190</td>\n",
       "      <td>product_es_0622919</td>\n",
       "      <td>reviewer_es_0466173</td>\n",
       "      <td>5</td>\n",
       "      <td>Compré la batería con cierta reticencia, pero ...</td>\n",
       "      <td>Funciona perfectamente</td>\n",
       "      <td>es</td>\n",
       "      <td>electronics</td>\n",
       "    </tr>\n",
       "    <tr>\n",
       "      <th>199997</th>\n",
       "      <td>es_0484496</td>\n",
       "      <td>product_es_0358101</td>\n",
       "      <td>reviewer_es_0330744</td>\n",
       "      <td>5</td>\n",
       "      <td>Buena calidad. Satisfecha con la compra.</td>\n",
       "      <td>Buena calidad.</td>\n",
       "      <td>es</td>\n",
       "      <td>apparel</td>\n",
       "    </tr>\n",
       "    <tr>\n",
       "      <th>199998</th>\n",
       "      <td>es_0930141</td>\n",
       "      <td>product_es_0788855</td>\n",
       "      <td>reviewer_es_0694290</td>\n",
       "      <td>5</td>\n",
       "      <td>Perfecto para el cumple de mi hijo</td>\n",
       "      <td>Recomendado</td>\n",
       "      <td>es</td>\n",
       "      <td>toy</td>\n",
       "    </tr>\n",
       "    <tr>\n",
       "      <th>199999</th>\n",
       "      <td>es_0859809</td>\n",
       "      <td>product_es_0378794</td>\n",
       "      <td>reviewer_es_0141717</td>\n",
       "      <td>5</td>\n",
       "      <td>Súper bien! Las brochas son buenas, no sé meno...</td>\n",
       "      <td>Preciosas</td>\n",
       "      <td>es</td>\n",
       "      <td>home</td>\n",
       "    </tr>\n",
       "  </tbody>\n",
       "</table>\n",
       "</div>"
      ],
      "text/plain": [
       "         review_id          product_id          reviewer_id  stars  \\\n",
       "199995  es_0715276  product_es_0317036  reviewer_es_0643604      5   \n",
       "199996  es_0085190  product_es_0622919  reviewer_es_0466173      5   \n",
       "199997  es_0484496  product_es_0358101  reviewer_es_0330744      5   \n",
       "199998  es_0930141  product_es_0788855  reviewer_es_0694290      5   \n",
       "199999  es_0859809  product_es_0378794  reviewer_es_0141717      5   \n",
       "\n",
       "                                              review_body  \\\n",
       "199995  Mando funciona perfectamente y cumple con toda...   \n",
       "199996  Compré la batería con cierta reticencia, pero ...   \n",
       "199997           Buena calidad. Satisfecha con la compra.   \n",
       "199998                 Perfecto para el cumple de mi hijo   \n",
       "199999  Súper bien! Las brochas son buenas, no sé meno...   \n",
       "\n",
       "                  review_title language product_category  \n",
       "199995  Tal y como se describe       es      electronics  \n",
       "199996  Funciona perfectamente       es      electronics  \n",
       "199997          Buena calidad.       es          apparel  \n",
       "199998             Recomendado       es              toy  \n",
       "199999               Preciosas       es             home  "
      ]
     },
     "execution_count": 3,
     "metadata": {},
     "output_type": "execute_result"
    }
   ],
   "source": [
    "data.tail()"
   ]
  },
  {
   "cell_type": "code",
   "execution_count": 7,
   "metadata": {},
   "outputs": [
    {
     "data": {
      "text/plain": [
       "(200000, 8)"
      ]
     },
     "execution_count": 7,
     "metadata": {},
     "output_type": "execute_result"
    }
   ],
   "source": [
    "data.shape"
   ]
  },
  {
   "cell_type": "code",
   "execution_count": 8,
   "metadata": {},
   "outputs": [
    {
     "name": "stdout",
     "output_type": "stream",
     "text": [
      "<class 'pandas.core.frame.DataFrame'>\n",
      "RangeIndex: 200000 entries, 0 to 199999\n",
      "Data columns (total 8 columns):\n",
      " #   Column            Non-Null Count   Dtype \n",
      "---  ------            --------------   ----- \n",
      " 0   review_id         200000 non-null  object\n",
      " 1   product_id        200000 non-null  object\n",
      " 2   reviewer_id       200000 non-null  object\n",
      " 3   stars             200000 non-null  int64 \n",
      " 4   review_body       200000 non-null  object\n",
      " 5   review_title      200000 non-null  object\n",
      " 6   language          200000 non-null  object\n",
      " 7   product_category  200000 non-null  object\n",
      "dtypes: int64(1), object(7)\n",
      "memory usage: 12.2+ MB\n"
     ]
    }
   ],
   "source": [
    "data.info()"
   ]
  },
  {
   "cell_type": "code",
   "execution_count": 9,
   "metadata": {},
   "outputs": [
    {
     "data": {
      "text/plain": [
       "home                        26962\n",
       "wireless                    25886\n",
       "toy                         13647\n",
       "sports                      13189\n",
       "pc                          11191\n",
       "home_improvement            10879\n",
       "electronics                 10385\n",
       "beauty                       7337\n",
       "automotive                   7143\n",
       "kitchen                      6695\n",
       "apparel                      5737\n",
       "drugstore                    5513\n",
       "book                         5264\n",
       "furniture                    5229\n",
       "baby_product                 4881\n",
       "office_product               4771\n",
       "lawn_and_garden              4237\n",
       "other                        3937\n",
       "pet_products                 3713\n",
       "personal_care_appliances     3573\n",
       "luggage                      3328\n",
       "camera                       3029\n",
       "shoes                        2754\n",
       "digital_ebook_purchase       1843\n",
       "video_games                  1733\n",
       "jewelry                      1598\n",
       "musical_instruments          1530\n",
       "watch                        1490\n",
       "industrial_supplies          1482\n",
       "grocery                      1044\n",
       "Name: product_category, dtype: int64"
      ]
     },
     "execution_count": 9,
     "metadata": {},
     "output_type": "execute_result"
    }
   ],
   "source": [
    "data.product_category.value_counts()"
   ]
  },
  {
   "cell_type": "code",
   "execution_count": 31,
   "metadata": {},
   "outputs": [
    {
     "data": {
      "text/html": [
       "<div>\n",
       "<style scoped>\n",
       "    .dataframe tbody tr th:only-of-type {\n",
       "        vertical-align: middle;\n",
       "    }\n",
       "\n",
       "    .dataframe tbody tr th {\n",
       "        vertical-align: top;\n",
       "    }\n",
       "\n",
       "    .dataframe thead th {\n",
       "        text-align: right;\n",
       "    }\n",
       "</style>\n",
       "<table border=\"1\" class=\"dataframe\">\n",
       "  <thead>\n",
       "    <tr style=\"text-align: right;\">\n",
       "      <th></th>\n",
       "      <th>product_category</th>\n",
       "      <th>avg_stars</th>\n",
       "      <th>rev_count</th>\n",
       "    </tr>\n",
       "  </thead>\n",
       "  <tbody>\n",
       "    <tr>\n",
       "      <th>16</th>\n",
       "      <td>lawn_and_garden</td>\n",
       "      <td>2.773189</td>\n",
       "      <td>4237</td>\n",
       "    </tr>\n",
       "    <tr>\n",
       "      <th>29</th>\n",
       "      <td>wireless</td>\n",
       "      <td>2.821834</td>\n",
       "      <td>25886</td>\n",
       "    </tr>\n",
       "    <tr>\n",
       "      <th>0</th>\n",
       "      <td>apparel</td>\n",
       "      <td>2.866829</td>\n",
       "      <td>5737</td>\n",
       "    </tr>\n",
       "    <tr>\n",
       "      <th>8</th>\n",
       "      <td>electronics</td>\n",
       "      <td>2.887626</td>\n",
       "      <td>10385</td>\n",
       "    </tr>\n",
       "    <tr>\n",
       "      <th>14</th>\n",
       "      <td>jewelry</td>\n",
       "      <td>2.930538</td>\n",
       "      <td>1598</td>\n",
       "    </tr>\n",
       "    <tr>\n",
       "      <th>3</th>\n",
       "      <td>beauty</td>\n",
       "      <td>2.935805</td>\n",
       "      <td>7337</td>\n",
       "    </tr>\n",
       "    <tr>\n",
       "      <th>1</th>\n",
       "      <td>automotive</td>\n",
       "      <td>2.950721</td>\n",
       "      <td>7143</td>\n",
       "    </tr>\n",
       "    <tr>\n",
       "      <th>11</th>\n",
       "      <td>home</td>\n",
       "      <td>2.980380</td>\n",
       "      <td>26962</td>\n",
       "    </tr>\n",
       "    <tr>\n",
       "      <th>23</th>\n",
       "      <td>pet_products</td>\n",
       "      <td>2.991112</td>\n",
       "      <td>3713</td>\n",
       "    </tr>\n",
       "    <tr>\n",
       "      <th>28</th>\n",
       "      <td>watch</td>\n",
       "      <td>3.001342</td>\n",
       "      <td>1490</td>\n",
       "    </tr>\n",
       "    <tr>\n",
       "      <th>7</th>\n",
       "      <td>drugstore</td>\n",
       "      <td>3.010521</td>\n",
       "      <td>5513</td>\n",
       "    </tr>\n",
       "    <tr>\n",
       "      <th>15</th>\n",
       "      <td>kitchen</td>\n",
       "      <td>3.016281</td>\n",
       "      <td>6695</td>\n",
       "    </tr>\n",
       "    <tr>\n",
       "      <th>22</th>\n",
       "      <td>personal_care_appliances</td>\n",
       "      <td>3.022950</td>\n",
       "      <td>3573</td>\n",
       "    </tr>\n",
       "    <tr>\n",
       "      <th>25</th>\n",
       "      <td>sports</td>\n",
       "      <td>3.034650</td>\n",
       "      <td>13189</td>\n",
       "    </tr>\n",
       "    <tr>\n",
       "      <th>12</th>\n",
       "      <td>home_improvement</td>\n",
       "      <td>3.036584</td>\n",
       "      <td>10879</td>\n",
       "    </tr>\n",
       "    <tr>\n",
       "      <th>26</th>\n",
       "      <td>toy</td>\n",
       "      <td>3.042061</td>\n",
       "      <td>13647</td>\n",
       "    </tr>\n",
       "    <tr>\n",
       "      <th>9</th>\n",
       "      <td>furniture</td>\n",
       "      <td>3.048958</td>\n",
       "      <td>5229</td>\n",
       "    </tr>\n",
       "    <tr>\n",
       "      <th>21</th>\n",
       "      <td>pc</td>\n",
       "      <td>3.062550</td>\n",
       "      <td>11191</td>\n",
       "    </tr>\n",
       "    <tr>\n",
       "      <th>13</th>\n",
       "      <td>industrial_supplies</td>\n",
       "      <td>3.078947</td>\n",
       "      <td>1482</td>\n",
       "    </tr>\n",
       "    <tr>\n",
       "      <th>20</th>\n",
       "      <td>other</td>\n",
       "      <td>3.079756</td>\n",
       "      <td>3937</td>\n",
       "    </tr>\n",
       "    <tr>\n",
       "      <th>19</th>\n",
       "      <td>office_product</td>\n",
       "      <td>3.086565</td>\n",
       "      <td>4771</td>\n",
       "    </tr>\n",
       "    <tr>\n",
       "      <th>2</th>\n",
       "      <td>baby_product</td>\n",
       "      <td>3.089326</td>\n",
       "      <td>4881</td>\n",
       "    </tr>\n",
       "    <tr>\n",
       "      <th>5</th>\n",
       "      <td>camera</td>\n",
       "      <td>3.109277</td>\n",
       "      <td>3029</td>\n",
       "    </tr>\n",
       "    <tr>\n",
       "      <th>24</th>\n",
       "      <td>shoes</td>\n",
       "      <td>3.109296</td>\n",
       "      <td>2754</td>\n",
       "    </tr>\n",
       "    <tr>\n",
       "      <th>27</th>\n",
       "      <td>video_games</td>\n",
       "      <td>3.124639</td>\n",
       "      <td>1733</td>\n",
       "    </tr>\n",
       "    <tr>\n",
       "      <th>10</th>\n",
       "      <td>grocery</td>\n",
       "      <td>3.147510</td>\n",
       "      <td>1044</td>\n",
       "    </tr>\n",
       "    <tr>\n",
       "      <th>18</th>\n",
       "      <td>musical_instruments</td>\n",
       "      <td>3.225490</td>\n",
       "      <td>1530</td>\n",
       "    </tr>\n",
       "    <tr>\n",
       "      <th>17</th>\n",
       "      <td>luggage</td>\n",
       "      <td>3.293570</td>\n",
       "      <td>3328</td>\n",
       "    </tr>\n",
       "    <tr>\n",
       "      <th>6</th>\n",
       "      <td>digital_ebook_purchase</td>\n",
       "      <td>3.357027</td>\n",
       "      <td>1843</td>\n",
       "    </tr>\n",
       "    <tr>\n",
       "      <th>4</th>\n",
       "      <td>book</td>\n",
       "      <td>3.399316</td>\n",
       "      <td>5264</td>\n",
       "    </tr>\n",
       "  </tbody>\n",
       "</table>\n",
       "</div>"
      ],
      "text/plain": [
       "            product_category  avg_stars  rev_count\n",
       "16           lawn_and_garden   2.773189       4237\n",
       "29                  wireless   2.821834      25886\n",
       "0                    apparel   2.866829       5737\n",
       "8                electronics   2.887626      10385\n",
       "14                   jewelry   2.930538       1598\n",
       "3                     beauty   2.935805       7337\n",
       "1                 automotive   2.950721       7143\n",
       "11                      home   2.980380      26962\n",
       "23              pet_products   2.991112       3713\n",
       "28                     watch   3.001342       1490\n",
       "7                  drugstore   3.010521       5513\n",
       "15                   kitchen   3.016281       6695\n",
       "22  personal_care_appliances   3.022950       3573\n",
       "25                    sports   3.034650      13189\n",
       "12          home_improvement   3.036584      10879\n",
       "26                       toy   3.042061      13647\n",
       "9                  furniture   3.048958       5229\n",
       "21                        pc   3.062550      11191\n",
       "13       industrial_supplies   3.078947       1482\n",
       "20                     other   3.079756       3937\n",
       "19            office_product   3.086565       4771\n",
       "2               baby_product   3.089326       4881\n",
       "5                     camera   3.109277       3029\n",
       "24                     shoes   3.109296       2754\n",
       "27               video_games   3.124639       1733\n",
       "10                   grocery   3.147510       1044\n",
       "18       musical_instruments   3.225490       1530\n",
       "17                   luggage   3.293570       3328\n",
       "6     digital_ebook_purchase   3.357027       1843\n",
       "4                       book   3.399316       5264"
      ]
     },
     "execution_count": 31,
     "metadata": {},
     "output_type": "execute_result"
    }
   ],
   "source": [
    "# Ver cantidad de usuarios que valoraron con cada número estrellas las distintas categorías\n",
    "# data_grouped = data.review_id.groupby([data['product_category'],data['stars']]).count().astype(int).reset_index(name='count')\n",
    "from statistics import mean\n",
    "data_grouped = data.stars.groupby([data['product_category']]).mean().reset_index(name='avg_stars')\n",
    "data_grouped['rev_count'] = data.stars.groupby([data['product_category']]).count().astype(int).reset_index(name='rev_count').rev_count\n",
    "data_grouped.sort_values(by='avg_stars')"
   ]
  },
  {
   "cell_type": "code",
   "execution_count": 27,
   "metadata": {},
   "outputs": [
    {
     "data": {
      "text/html": [
       "<div>\n",
       "<style scoped>\n",
       "    .dataframe tbody tr th:only-of-type {\n",
       "        vertical-align: middle;\n",
       "    }\n",
       "\n",
       "    .dataframe tbody tr th {\n",
       "        vertical-align: top;\n",
       "    }\n",
       "\n",
       "    .dataframe thead th {\n",
       "        text-align: right;\n",
       "    }\n",
       "</style>\n",
       "<table border=\"1\" class=\"dataframe\">\n",
       "  <thead>\n",
       "    <tr style=\"text-align: right;\">\n",
       "      <th></th>\n",
       "      <th>product_category</th>\n",
       "      <th>stars</th>\n",
       "      <th>count</th>\n",
       "    </tr>\n",
       "  </thead>\n",
       "  <tbody>\n",
       "    <tr>\n",
       "      <th>0</th>\n",
       "      <td>apparel</td>\n",
       "      <td>1</td>\n",
       "      <td>1273</td>\n",
       "    </tr>\n",
       "    <tr>\n",
       "      <th>1</th>\n",
       "      <td>apparel</td>\n",
       "      <td>2</td>\n",
       "      <td>1205</td>\n",
       "    </tr>\n",
       "    <tr>\n",
       "      <th>2</th>\n",
       "      <td>apparel</td>\n",
       "      <td>3</td>\n",
       "      <td>1200</td>\n",
       "    </tr>\n",
       "    <tr>\n",
       "      <th>3</th>\n",
       "      <td>apparel</td>\n",
       "      <td>4</td>\n",
       "      <td>1131</td>\n",
       "    </tr>\n",
       "    <tr>\n",
       "      <th>4</th>\n",
       "      <td>apparel</td>\n",
       "      <td>5</td>\n",
       "      <td>928</td>\n",
       "    </tr>\n",
       "    <tr>\n",
       "      <th>...</th>\n",
       "      <td>...</td>\n",
       "      <td>...</td>\n",
       "      <td>...</td>\n",
       "    </tr>\n",
       "    <tr>\n",
       "      <th>145</th>\n",
       "      <td>wireless</td>\n",
       "      <td>1</td>\n",
       "      <td>6283</td>\n",
       "    </tr>\n",
       "    <tr>\n",
       "      <th>146</th>\n",
       "      <td>wireless</td>\n",
       "      <td>2</td>\n",
       "      <td>5684</td>\n",
       "    </tr>\n",
       "    <tr>\n",
       "      <th>147</th>\n",
       "      <td>wireless</td>\n",
       "      <td>3</td>\n",
       "      <td>4797</td>\n",
       "    </tr>\n",
       "    <tr>\n",
       "      <th>148</th>\n",
       "      <td>wireless</td>\n",
       "      <td>4</td>\n",
       "      <td>4606</td>\n",
       "    </tr>\n",
       "    <tr>\n",
       "      <th>149</th>\n",
       "      <td>wireless</td>\n",
       "      <td>5</td>\n",
       "      <td>4516</td>\n",
       "    </tr>\n",
       "  </tbody>\n",
       "</table>\n",
       "<p>150 rows × 3 columns</p>\n",
       "</div>"
      ],
      "text/plain": [
       "    product_category  stars  count\n",
       "0            apparel      1   1273\n",
       "1            apparel      2   1205\n",
       "2            apparel      3   1200\n",
       "3            apparel      4   1131\n",
       "4            apparel      5    928\n",
       "..               ...    ...    ...\n",
       "145         wireless      1   6283\n",
       "146         wireless      2   5684\n",
       "147         wireless      3   4797\n",
       "148         wireless      4   4606\n",
       "149         wireless      5   4516\n",
       "\n",
       "[150 rows x 3 columns]"
      ]
     },
     "execution_count": 27,
     "metadata": {},
     "output_type": "execute_result"
    }
   ],
   "source": [
    "# data_grouped = data.review_id.groupby([data['product_category'],data['stars']]).count().astype(int).reset_index(name='count')\n",
    "# data_grouped"
   ]
  },
  {
   "cell_type": "code",
   "execution_count": 79,
   "metadata": {},
   "outputs": [
    {
     "data": {
      "text/plain": [
       "1    40000\n",
       "2    40000\n",
       "3    40000\n",
       "4    40000\n",
       "5    40000\n",
       "Name: stars, dtype: int64"
      ]
     },
     "execution_count": 79,
     "metadata": {},
     "output_type": "execute_result"
    }
   ],
   "source": [
    "data.stars.value_counts()"
   ]
  },
  {
   "cell_type": "code",
   "execution_count": 36,
   "metadata": {},
   "outputs": [
    {
     "data": {
      "image/png": "[encoded data removed]",
      "text/plain": [
       "<Figure size 432x288 with 1 Axes>"
      ]
     },
     "metadata": {},
     "output_type": "display_data"
    },
    {
     "data": {
      "text/plain": [
       "<Figure size 2160x1008 with 0 Axes>"
      ]
     },
     "metadata": {},
     "output_type": "display_data"
    }
   ],
   "source": [
    "# grafico = sns.countplot(x=data['product_category'],data=data, hue='stars')\n",
    "grafico = sns.barplot(x=data_grouped.product_category.sort_values(), y=data_grouped.rev_count, linewidth=1,edgecolor=(0,0,0))\n",
    "grafico.set_xticklabels(grafico.get_xticklabels(), rotation=90, ha=\"right\")\n",
    "#plt.figure(figsize=(20,4))\n",
    "# plt.bar(x=data['stars'], height=10,data=data)\n",
    "plt.figure(figsize=(30,14))\n",
    "plt.show()"
   ]
  },
  {
   "cell_type": "code",
   "execution_count": 26,
   "metadata": {},
   "outputs": [
    {
     "data": {
      "text/plain": [
       "0                      apparel\n",
       "1                   automotive\n",
       "2                 baby_product\n",
       "3                       beauty\n",
       "4                         book\n",
       "5                       camera\n",
       "6       digital_ebook_purchase\n",
       "7                    drugstore\n",
       "8                  electronics\n",
       "9                    furniture\n",
       "10                     grocery\n",
       "11                        home\n",
       "12            home_improvement\n",
       "13         industrial_supplies\n",
       "14                     jewelry\n",
       "15                     kitchen\n",
       "16             lawn_and_garden\n",
       "17                     luggage\n",
       "18         musical_instruments\n",
       "19              office_product\n",
       "20                       other\n",
       "21                          pc\n",
       "22    personal_care_appliances\n",
       "23                pet_products\n",
       "24                       shoes\n",
       "25                      sports\n",
       "26                         toy\n",
       "27                 video_games\n",
       "28                       watch\n",
       "29                    wireless\n",
       "Name: product_category, dtype: object"
      ]
     },
     "execution_count": 26,
     "metadata": {},
     "output_type": "execute_result"
    }
   ],
   "source": [
    "data_grouped.product_category.sort_values()"
   ]
  },
  {
   "cell_type": "code",
   "execution_count": 23,
   "metadata": {},
   "outputs": [
    {
     "name": "stdout",
     "output_type": "stream",
     "text": [
      "De las 200000 reseñas, sólo 179076 fueron hechas por usuarios únicos.\n",
      "Esto equivale al 89.538 %\n"
     ]
    }
   ],
   "source": [
    "# Ver cuántos usuarios únicos publicaron\n",
    "print(\"De las\", data.shape[0],\"reseñas, sólo\", len(data.reviewer_id.unique()), \"fueron hechas por usuarios únicos.\")\n",
    "print(\"Esto equivale al\", len(data.reviewer_id.unique())/data.shape[0]*100,\"%\")"
   ]
  },
  {
   "cell_type": "code",
   "execution_count": 24,
   "metadata": {},
   "outputs": [
    {
     "name": "stdout",
     "output_type": "stream",
     "text": [
      "De las 200000 reseñas, sólo se mencionan 150938 productos únicos.\n",
      "Esto equivale al 75.469 %\n"
     ]
    }
   ],
   "source": [
    "# Ver sobre cuántos productos únicos se publicaron reseñas\n",
    "print(\"De las\", data.shape[0],\"reseñas, sólo se mencionan\", len(data.product_id.unique()), \"productos únicos.\")\n",
    "print(\"Esto equivale al\", len(data.product_id.unique())/data.shape[0]*100,\"%\")"
   ]
  },
  {
   "cell_type": "code",
   "execution_count": 66,
   "metadata": {},
   "outputs": [],
   "source": [
    "# Previamente\n",
    "## python -m spacy download es\n",
    "## python -m spacy download es_core_news_sm\n",
    "\n",
    "import spacy # https://spacy.io/usage/models\n",
    "nlp = spacy.load('es_core_news_sm')\n",
    "\n",
    "#Stop Words de es_core_news_sm\n",
    "from spacy.lang.es.stop_words import STOP_WORDS\n",
    "stopwords_spacy = list(STOP_WORDS)\n",
    "# Quitamos palabras como 'no', 'bueno', 'buena' que nos pueden ser últiles para predecir\n",
    "stopwords_spacy.remove('no')\n",
    "stopwords_spacy.remove('bueno')\n",
    "stopwords_spacy.remove('buena')"
   ]
  },
  {
   "cell_type": "code",
   "execution_count": 38,
   "metadata": {},
   "outputs": [],
   "source": [
    "#Stop Words de nltk\n",
    "import nltk\n",
    "from nltk.corpus import stopwords\n",
    "stopwords_nltk = set(stopwords.words('spanish'))"
   ]
  },
  {
   "cell_type": "markdown",
   "metadata": {},
   "source": [
    "**Stopwords de spaCy:** https://github.com/explosion/spaCy/blob/master/spacy/lang/es/stop_words.py\n",
    "<br> vs<br>\n",
    "**Stopwords de NLTK:** https://github.com/Alir3z4/stop-words/blob/bd8cc1434faeb3449735ed570a4a392ab5d35291/spanish.txt\n",
    "\n",
    "Está bastante mejor el de NLTK porque spaCy tiene palabras como \"bueno\" y \"bien\""
   ]
  },
  {
   "cell_type": "code",
   "execution_count": 39,
   "metadata": {},
   "outputs": [
    {
     "data": {
      "text/html": [
       "<div>\n",
       "<style scoped>\n",
       "    .dataframe tbody tr th:only-of-type {\n",
       "        vertical-align: middle;\n",
       "    }\n",
       "\n",
       "    .dataframe tbody tr th {\n",
       "        vertical-align: top;\n",
       "    }\n",
       "\n",
       "    .dataframe thead th {\n",
       "        text-align: right;\n",
       "    }\n",
       "</style>\n",
       "<table border=\"1\" class=\"dataframe\">\n",
       "  <thead>\n",
       "    <tr style=\"text-align: right;\">\n",
       "      <th></th>\n",
       "      <th>product_category</th>\n",
       "      <th>review_title</th>\n",
       "      <th>review_body</th>\n",
       "      <th>stars</th>\n",
       "    </tr>\n",
       "  </thead>\n",
       "  <tbody>\n",
       "    <tr>\n",
       "      <th>0</th>\n",
       "      <td>electronics</td>\n",
       "      <td>television Nevir</td>\n",
       "      <td>Nada bueno se me fue ka pantalla en menos de 8...</td>\n",
       "      <td>1</td>\n",
       "    </tr>\n",
       "    <tr>\n",
       "      <th>1</th>\n",
       "      <td>electronics</td>\n",
       "      <td>Dinero tirado a la basura con esta compra</td>\n",
       "      <td>Horrible, nos tuvimos que comprar otro porque ...</td>\n",
       "      <td>1</td>\n",
       "    </tr>\n",
       "    <tr>\n",
       "      <th>2</th>\n",
       "      <td>drugstore</td>\n",
       "      <td>solo llega una unidad cuando te obligan a comp...</td>\n",
       "      <td>Te obligan a comprar dos unidades y te llega s...</td>\n",
       "      <td>1</td>\n",
       "    </tr>\n",
       "    <tr>\n",
       "      <th>3</th>\n",
       "      <td>wireless</td>\n",
       "      <td>PRODUCTO NO RECIBIDO.</td>\n",
       "      <td>No entro en descalificar al vendedor, solo pue...</td>\n",
       "      <td>1</td>\n",
       "    </tr>\n",
       "    <tr>\n",
       "      <th>4</th>\n",
       "      <td>shoes</td>\n",
       "      <td>Devuelto</td>\n",
       "      <td>Llega tarde y co la talla equivocada</td>\n",
       "      <td>1</td>\n",
       "    </tr>\n",
       "  </tbody>\n",
       "</table>\n",
       "</div>"
      ],
      "text/plain": [
       "  product_category                                       review_title  \\\n",
       "0      electronics                                   television Nevir   \n",
       "1      electronics          Dinero tirado a la basura con esta compra   \n",
       "2        drugstore  solo llega una unidad cuando te obligan a comp...   \n",
       "3         wireless                              PRODUCTO NO RECIBIDO.   \n",
       "4            shoes                                           Devuelto   \n",
       "\n",
       "                                         review_body  stars  \n",
       "0  Nada bueno se me fue ka pantalla en menos de 8...      1  \n",
       "1  Horrible, nos tuvimos que comprar otro porque ...      1  \n",
       "2  Te obligan a comprar dos unidades y te llega s...      1  \n",
       "3  No entro en descalificar al vendedor, solo pue...      1  \n",
       "4               Llega tarde y co la talla equivocada      1  "
      ]
     },
     "execution_count": 39,
     "metadata": {},
     "output_type": "execute_result"
    }
   ],
   "source": [
    "# Nos quedamos con las columnas del dataset que son relevantes para predecir la valoración en general\n",
    "# Por eso se descartan las columnas de id de usuario y producto\n",
    "# La de categoría nos puede servir para relacionar palabras\n",
    "# La del idioma es redundante\n",
    "df = data[['product_category','review_title','review_body','stars']]\n",
    "df.head()"
   ]
  },
  {
   "cell_type": "code",
   "execution_count": 88,
   "metadata": {},
   "outputs": [
    {
     "name": "stdout",
     "output_type": "stream",
     "text": [
      "135750 Segura y funcional Segura, buen diseño y relación calidad-precio. Únicamente deberían mejorar las instrucciones, difícil montaje\n"
     ]
    }
   ],
   "source": [
    "# Miramos una review al azar\n",
    "random_index = np.random.randint(0,df.shape[0])\n",
    "review = df.review_body.iloc[random_index]\n",
    "title = df.review_title.iloc[random_index]\n",
    "print(random_index, title, review)\n",
    "print('Puntuación:',df.stars[random_index])"
   ]
  },
  {
   "cell_type": "code",
   "execution_count": 90,
   "metadata": {},
   "outputs": [
    {
     "name": "stdout",
     "output_type": "stream",
     "text": [
      "baby_product 4\n"
     ]
    }
   ],
   "source": [
    "# Reemplazamos\n",
    "print(df.product_category[random_index],df.stars[random_index])"
   ]
  },
  {
   "cell_type": "code",
   "execution_count": 99,
   "metadata": {},
   "outputs": [],
   "source": [
    "#Constante de signos de puntuación\n",
    "import string\n",
    "puntua = string.punctuation + '¡¿'\n",
    "\n",
    "#Función para limpieza de datos\n",
    "def text_data_cleaning(sentence):\n",
    "    doc = nlp(sentence)\n",
    "    \n",
    "    tokens = []\n",
    "    for token in doc:\n",
    "        if token.lemma_ != \"-PRON-\":\n",
    "            temp = token.lemma_.strip()\n",
    "        else:\n",
    "            temp = token\n",
    "        tokens.append(temp)\n",
    "    \n",
    "    clean_tokens = []\n",
    "    for token in tokens:\n",
    "        if str(token) not in stopwords_spacy and token not in puntua:\n",
    "            clean_tokens.append(token)\n",
    "    \n",
    "    return clean_tokens"
   ]
  },
  {
   "cell_type": "code",
   "execution_count": 101,
   "metadata": {},
   "outputs": [
    {
     "data": {
      "text/plain": [
       "['Segura',\n",
       " 'diseño',\n",
       " 'y',\n",
       " 'relación',\n",
       " 'calidad-precio',\n",
       " 'únicamente',\n",
       " 'deber',\n",
       " 'mejorar',\n",
       " 'instrucción',\n",
       " 'difícil',\n",
       " 'montaje']"
      ]
     },
     "execution_count": 101,
     "metadata": {},
     "output_type": "execute_result"
    }
   ],
   "source": [
    "clean_review = text_data_cleaning(review)\n",
    "clean_review"
   ]
  },
  {
   "cell_type": "code",
   "execution_count": 100,
   "metadata": {},
   "outputs": [
    {
     "name": "stdout",
     "output_type": "stream",
     "text": [
      "segura y funcional \n",
      " segura  buen diseño y relación calidad precio  únicamente deberían mejorar las instrucciones  difícil montaje \n",
      "\n",
      "segura\n",
      "y\n",
      "funcional\n",
      "segura\n",
      " \n",
      "diseño\n",
      "y\n",
      "relación\n",
      "calidad\n",
      "precio\n",
      " \n",
      "únicamente\n",
      "deberían\n",
      "mejorar\n",
      "instrucciones\n",
      " \n",
      "difícil\n",
      "montaje\n"
     ]
    }
   ],
   "source": [
    "# Pasar todo a minúscula y quitar lo que no sea texto o espacio\n",
    "import re\n",
    "review_sin_punct = re.sub(\"[^a-zA-ZáéíóúÁÉÍÓÚÑñüÜ0-9]\", \" \", str(review.lower())) # re.sub(pattern, repl, string, count=0, flags=0) --> Return the string obtained by replacing the leftmost non-overlapping occurrences of pattern in string by the replacement repl.\n",
    "title_sin_punct = re.sub(\"[^a-zA-ZáéíóúÁÉÍÓÚÑñüÜ0-9]\", \" \", str(title.lower()))\n",
    "print(title_sin_punct,'\\n',review_sin_punct,'\\n')\n",
    "\n",
    "# Tokenizar\n",
    "doc = nlp(title_sin_punct + ' ' + review_sin_punct)\n",
    "# print(doc)\n",
    "rev = []\n",
    "for token in doc:\n",
    "    if(str(token) not in stopwords_spacy):\n",
    "        rev.append(token)\n",
    "        print(token)"
   ]
  },
  {
   "cell_type": "code",
   "execution_count": 97,
   "metadata": {},
   "outputs": [
    {
     "data": {
      "text/plain": [
       "['seguro',\n",
       " 'funcional',\n",
       " 'seguro',\n",
       " 'buen',\n",
       " 'diseño',\n",
       " 'relación',\n",
       " 'calidad',\n",
       " 'precio',\n",
       " 'únicamente',\n",
       " 'deber',\n",
       " 'mejorar',\n",
       " 'instrucción',\n",
       " 'difícil',\n",
       " 'montaje']"
      ]
     },
     "execution_count": 97,
     "metadata": {},
     "output_type": "execute_result"
    }
   ],
   "source": [
    "# Lemmatización\n",
    "rev_lemma = []\n",
    "rev_lemma = [w.lemma_ for w in rev if not w.pos_ == 'SPACE'] # Lemmatizamos y filtramos espacios\n",
    "rev_lemma\n",
    "\n",
    "# rev_lemma.clear()"
   ]
  },
  {
   "cell_type": "code",
   "execution_count": null,
   "metadata": {},
   "outputs": [],
   "source": [
    "# Quitamos palabras duplicadas si las hubiera\n",
    "[res.append(x) for x in test_list if x not in res] "
   ]
  },
  {
   "cell_type": "code",
   "execution_count": 55,
   "metadata": {},
   "outputs": [
    {
     "name": "stdout",
     "output_type": "stream",
     "text": [
      "fachero  -  fachero  -  NOUN\n",
      "buenardo  -  buenardo  -  ADJ\n",
      "flashero  -  flashero  -  ADJ\n",
      "flasheado  -  flasheado  -  ADJ\n",
      "cool  -  cool  -  NOUN\n",
      "malisimo  -  malisimo  -  ADJ\n",
      "malardo  -  malardo  -  ADJ\n",
      "mina  -  mina  -  NOUN\n",
      "cana  -  cán  -  ADJ\n",
      "chavon  -  chavon  -  ADV\n"
     ]
    }
   ],
   "source": [
    "# Cómo clasifica palabras lunfardas que pueden aparecer\n",
    "palabra = 'fachero buenardo flashero flasheado cool malisimo malardo mina cana chavon'\n",
    "palabra = nlp(palabra)\n",
    "for t in palabra:\n",
    "    print(t,\" - \",t.lemma_, \" - \", t.pos_)"
   ]
  },
  {
   "cell_type": "markdown",
   "metadata": {},
   "source": [
    "## Vectorization Feature Engineering (TF-IDF)"
   ]
  },
  {
   "cell_type": "code",
   "execution_count": 102,
   "metadata": {},
   "outputs": [],
   "source": [
    "# Importar librería de vectorización\n",
    "from sklearn.svm import SVR\n",
    "from sklearn.pipeline import Pipeline\n",
    "# from sklearn.model_selection import train_test_split\n",
    "# from sklearn.metrics import accuracy_score, classification_report, confusion_matrix"
   ]
  },
  {
   "cell_type": "code",
   "execution_count": 104,
   "metadata": {},
   "outputs": [],
   "source": [
    "# Definir la función de tokenizado y crear el REGRESOR\n",
    "from sklearn.feature_extraction.text import TfidfVectorizer\n",
    "tfidf = TfidfVectorizer(tokenizer = text_data_cleaning)\n",
    "linear_reg = SVR(kernel='linear')"
   ]
  },
  {
   "cell_type": "code",
   "execution_count": 112,
   "metadata": {},
   "outputs": [],
   "source": [
    "# Crear los vectores de datos de entrenamiento\n",
    "X_train = df['review_body']\n",
    "y_train = df['stars']"
   ]
  },
  {
   "cell_type": "code",
   "execution_count": 110,
   "metadata": {},
   "outputs": [],
   "source": [
    "# Crear los vectores de datos de prueba\n",
    "test_data = pd.read_json(\"dataset_amazon/dataset_es_test.json\", lines = True)\n",
    "test_data = test_data[['product_category','review_title','review_body','stars']]\n",
    "X_test = test_data.review_body\n",
    "y_test = test_data.stars"
   ]
  },
  {
   "cell_type": "code",
   "execution_count": 113,
   "metadata": {},
   "outputs": [
    {
     "name": "stdout",
     "output_type": "stream",
     "text": [
      "Cantidad de datos de entrenamiento: (200000,)\n",
      "Cantidad de datos de prueba: (5000,)\n"
     ]
    }
   ],
   "source": [
    "print(\"Cantidad de datos de entrenamiento:\", X_train.shape)\n",
    "print(\"Cantidad de datos de prueba:\", X_test.shape)"
   ]
  },
  {
   "cell_type": "code",
   "execution_count": null,
   "metadata": {},
   "outputs": [],
   "source": []
  }
 ],
 "metadata": {
  "kernelspec": {
   "display_name": "Python 3",
   "language": "python",
   "name": "python3"
  },
  "language_info": {
   "codemirror_mode": {
    "name": "ipython",
    "version": 3
   },
   "file_extension": ".py",
   "mimetype": "text/x-python",
   "name": "python",
   "nbconvert_exporter": "python",
   "pygments_lexer": "ipython3",
   "version": "3.8.6"
  }
 },
 "nbformat": 4,
 "nbformat_minor": 4
}
