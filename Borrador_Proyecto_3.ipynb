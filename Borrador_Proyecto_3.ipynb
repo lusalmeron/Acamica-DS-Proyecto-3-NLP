{
 "cells": [
  {
   "cell_type": "code",
   "execution_count": 1,
   "metadata": {},
   "outputs": [],
   "source": [
    "import pandas as pd\n",
    "import numpy as np\n",
    "import matplotlib.pyplot as plt\n",
    "import seaborn as sns\n",
    "sns.set()\n",
    "\n",
    "# Garbage collector para optimizar recursos\n",
    "import gc"
   ]
  },
  {
   "cell_type": "code",
   "execution_count": 2,
   "metadata": {},
   "outputs": [
    {
     "name": "stdout",
     "output_type": "stream",
     "text": [
      "- Cantidad de filas del set de desarrollo: 5000\n",
      "- Cantidad de filas del set de entrenamiento: 200000\n",
      "- Cantidad de filas del set de prueba: 5000\n"
     ]
    }
   ],
   "source": [
    "# Importamos dataset de desarrollo\n",
    "data_dev = pd.read_json(\"dataset_amazon/dataset_es_dev.json\", lines = True)\n",
    "print(\"- Cantidad de filas del set de desarrollo:\", data_dev.shape[0])\n",
    "\n",
    "# Importamos dataset de entrenamiento\n",
    "data_train = pd.read_json(\"dataset_amazon/dataset_es_train.json\", lines = True)\n",
    "print(\"- Cantidad de filas del set de entrenamiento:\", data_train.shape[0])\n",
    "\n",
    "# Importamos dataset de prueba\n",
    "data_test = pd.read_json(\"dataset_amazon/dataset_es_test.json\", lines = True)\n",
    "print(\"- Cantidad de filas del set de prueba:\", data_test.shape[0])"
   ]
  },
  {
   "cell_type": "code",
   "execution_count": 3,
   "metadata": {},
   "outputs": [],
   "source": [
    "# Concatenamos todos\n",
    "data = pd.concat([data_dev,data_train,data_test])\n",
    "data = data.reset_index(drop=True)"
   ]
  },
  {
   "cell_type": "code",
   "execution_count": 2,
   "metadata": {},
   "outputs": [
    {
     "data": {
      "text/html": [
       "<div>\n",
       "<style scoped>\n",
       "    .dataframe tbody tr th:only-of-type {\n",
       "        vertical-align: middle;\n",
       "    }\n",
       "\n",
       "    .dataframe tbody tr th {\n",
       "        vertical-align: top;\n",
       "    }\n",
       "\n",
       "    .dataframe thead th {\n",
       "        text-align: right;\n",
       "    }\n",
       "</style>\n",
       "<table border=\"1\" class=\"dataframe\">\n",
       "  <thead>\n",
       "    <tr style=\"text-align: right;\">\n",
       "      <th></th>\n",
       "      <th>review_id</th>\n",
       "      <th>product_id</th>\n",
       "      <th>reviewer_id</th>\n",
       "      <th>stars</th>\n",
       "      <th>review_body</th>\n",
       "      <th>review_title</th>\n",
       "      <th>language</th>\n",
       "      <th>product_category</th>\n",
       "    </tr>\n",
       "  </thead>\n",
       "  <tbody>\n",
       "    <tr>\n",
       "      <th>0</th>\n",
       "      <td>es_0491108</td>\n",
       "      <td>product_es_0296024</td>\n",
       "      <td>reviewer_es_0999081</td>\n",
       "      <td>1</td>\n",
       "      <td>Nada bueno se me fue ka pantalla en menos de 8...</td>\n",
       "      <td>television Nevir</td>\n",
       "      <td>es</td>\n",
       "      <td>electronics</td>\n",
       "    </tr>\n",
       "    <tr>\n",
       "      <th>1</th>\n",
       "      <td>es_0869872</td>\n",
       "      <td>product_es_0922286</td>\n",
       "      <td>reviewer_es_0216771</td>\n",
       "      <td>1</td>\n",
       "      <td>Horrible, nos tuvimos que comprar otro porque ...</td>\n",
       "      <td>Dinero tirado a la basura con esta compra</td>\n",
       "      <td>es</td>\n",
       "      <td>electronics</td>\n",
       "    </tr>\n",
       "    <tr>\n",
       "      <th>2</th>\n",
       "      <td>es_0811721</td>\n",
       "      <td>product_es_0474543</td>\n",
       "      <td>reviewer_es_0929213</td>\n",
       "      <td>1</td>\n",
       "      <td>Te obligan a comprar dos unidades y te llega s...</td>\n",
       "      <td>solo llega una unidad cuando te obligan a comp...</td>\n",
       "      <td>es</td>\n",
       "      <td>drugstore</td>\n",
       "    </tr>\n",
       "    <tr>\n",
       "      <th>3</th>\n",
       "      <td>es_0359921</td>\n",
       "      <td>product_es_0656090</td>\n",
       "      <td>reviewer_es_0224702</td>\n",
       "      <td>1</td>\n",
       "      <td>No entro en descalificar al vendedor, solo pue...</td>\n",
       "      <td>PRODUCTO NO RECIBIDO.</td>\n",
       "      <td>es</td>\n",
       "      <td>wireless</td>\n",
       "    </tr>\n",
       "    <tr>\n",
       "      <th>4</th>\n",
       "      <td>es_0068940</td>\n",
       "      <td>product_es_0662544</td>\n",
       "      <td>reviewer_es_0224827</td>\n",
       "      <td>1</td>\n",
       "      <td>Llega tarde y co la talla equivocada</td>\n",
       "      <td>Devuelto</td>\n",
       "      <td>es</td>\n",
       "      <td>shoes</td>\n",
       "    </tr>\n",
       "  </tbody>\n",
       "</table>\n",
       "</div>"
      ],
      "text/plain": [
       "    review_id          product_id          reviewer_id  stars  \\\n",
       "0  es_0491108  product_es_0296024  reviewer_es_0999081      1   \n",
       "1  es_0869872  product_es_0922286  reviewer_es_0216771      1   \n",
       "2  es_0811721  product_es_0474543  reviewer_es_0929213      1   \n",
       "3  es_0359921  product_es_0656090  reviewer_es_0224702      1   \n",
       "4  es_0068940  product_es_0662544  reviewer_es_0224827      1   \n",
       "\n",
       "                                         review_body  \\\n",
       "0  Nada bueno se me fue ka pantalla en menos de 8...   \n",
       "1  Horrible, nos tuvimos que comprar otro porque ...   \n",
       "2  Te obligan a comprar dos unidades y te llega s...   \n",
       "3  No entro en descalificar al vendedor, solo pue...   \n",
       "4               Llega tarde y co la talla equivocada   \n",
       "\n",
       "                                        review_title language product_category  \n",
       "0                                   television Nevir       es      electronics  \n",
       "1          Dinero tirado a la basura con esta compra       es      electronics  \n",
       "2  solo llega una unidad cuando te obligan a comp...       es        drugstore  \n",
       "3                              PRODUCTO NO RECIBIDO.       es         wireless  \n",
       "4                                           Devuelto       es            shoes  "
      ]
     },
     "execution_count": 2,
     "metadata": {},
     "output_type": "execute_result"
    }
   ],
   "source": [
    "data = pd.read_json(\"dataset_amazon/dataset_es_train.json\", lines = True)\n",
    "data.head()"
   ]
  },
  {
   "cell_type": "code",
   "execution_count": 3,
   "metadata": {},
   "outputs": [
    {
     "data": {
      "text/html": [
       "<div>\n",
       "<style scoped>\n",
       "    .dataframe tbody tr th:only-of-type {\n",
       "        vertical-align: middle;\n",
       "    }\n",
       "\n",
       "    .dataframe tbody tr th {\n",
       "        vertical-align: top;\n",
       "    }\n",
       "\n",
       "    .dataframe thead th {\n",
       "        text-align: right;\n",
       "    }\n",
       "</style>\n",
       "<table border=\"1\" class=\"dataframe\">\n",
       "  <thead>\n",
       "    <tr style=\"text-align: right;\">\n",
       "      <th></th>\n",
       "      <th>review_id</th>\n",
       "      <th>product_id</th>\n",
       "      <th>reviewer_id</th>\n",
       "      <th>stars</th>\n",
       "      <th>review_body</th>\n",
       "      <th>review_title</th>\n",
       "      <th>language</th>\n",
       "      <th>product_category</th>\n",
       "    </tr>\n",
       "  </thead>\n",
       "  <tbody>\n",
       "    <tr>\n",
       "      <th>199995</th>\n",
       "      <td>es_0715276</td>\n",
       "      <td>product_es_0317036</td>\n",
       "      <td>reviewer_es_0643604</td>\n",
       "      <td>5</td>\n",
       "      <td>Mando funciona perfectamente y cumple con toda...</td>\n",
       "      <td>Tal y como se describe</td>\n",
       "      <td>es</td>\n",
       "      <td>electronics</td>\n",
       "    </tr>\n",
       "    <tr>\n",
       "      <th>199996</th>\n",
       "      <td>es_0085190</td>\n",
       "      <td>product_es_0622919</td>\n",
       "      <td>reviewer_es_0466173</td>\n",
       "      <td>5</td>\n",
       "      <td>Compré la batería con cierta reticencia, pero ...</td>\n",
       "      <td>Funciona perfectamente</td>\n",
       "      <td>es</td>\n",
       "      <td>electronics</td>\n",
       "    </tr>\n",
       "    <tr>\n",
       "      <th>199997</th>\n",
       "      <td>es_0484496</td>\n",
       "      <td>product_es_0358101</td>\n",
       "      <td>reviewer_es_0330744</td>\n",
       "      <td>5</td>\n",
       "      <td>Buena calidad. Satisfecha con la compra.</td>\n",
       "      <td>Buena calidad.</td>\n",
       "      <td>es</td>\n",
       "      <td>apparel</td>\n",
       "    </tr>\n",
       "    <tr>\n",
       "      <th>199998</th>\n",
       "      <td>es_0930141</td>\n",
       "      <td>product_es_0788855</td>\n",
       "      <td>reviewer_es_0694290</td>\n",
       "      <td>5</td>\n",
       "      <td>Perfecto para el cumple de mi hijo</td>\n",
       "      <td>Recomendado</td>\n",
       "      <td>es</td>\n",
       "      <td>toy</td>\n",
       "    </tr>\n",
       "    <tr>\n",
       "      <th>199999</th>\n",
       "      <td>es_0859809</td>\n",
       "      <td>product_es_0378794</td>\n",
       "      <td>reviewer_es_0141717</td>\n",
       "      <td>5</td>\n",
       "      <td>Súper bien! Las brochas son buenas, no sé meno...</td>\n",
       "      <td>Preciosas</td>\n",
       "      <td>es</td>\n",
       "      <td>home</td>\n",
       "    </tr>\n",
       "  </tbody>\n",
       "</table>\n",
       "</div>"
      ],
      "text/plain": [
       "         review_id          product_id          reviewer_id  stars  \\\n",
       "199995  es_0715276  product_es_0317036  reviewer_es_0643604      5   \n",
       "199996  es_0085190  product_es_0622919  reviewer_es_0466173      5   \n",
       "199997  es_0484496  product_es_0358101  reviewer_es_0330744      5   \n",
       "199998  es_0930141  product_es_0788855  reviewer_es_0694290      5   \n",
       "199999  es_0859809  product_es_0378794  reviewer_es_0141717      5   \n",
       "\n",
       "                                              review_body  \\\n",
       "199995  Mando funciona perfectamente y cumple con toda...   \n",
       "199996  Compré la batería con cierta reticencia, pero ...   \n",
       "199997           Buena calidad. Satisfecha con la compra.   \n",
       "199998                 Perfecto para el cumple de mi hijo   \n",
       "199999  Súper bien! Las brochas son buenas, no sé meno...   \n",
       "\n",
       "                  review_title language product_category  \n",
       "199995  Tal y como se describe       es      electronics  \n",
       "199996  Funciona perfectamente       es      electronics  \n",
       "199997          Buena calidad.       es          apparel  \n",
       "199998             Recomendado       es              toy  \n",
       "199999               Preciosas       es             home  "
      ]
     },
     "execution_count": 3,
     "metadata": {},
     "output_type": "execute_result"
    }
   ],
   "source": [
    "data.tail()"
   ]
  },
  {
   "cell_type": "code",
   "execution_count": 7,
   "metadata": {},
   "outputs": [
    {
     "data": {
      "text/plain": [
       "(200000, 8)"
      ]
     },
     "execution_count": 7,
     "metadata": {},
     "output_type": "execute_result"
    }
   ],
   "source": [
    "data.shape"
   ]
  },
  {
   "cell_type": "code",
   "execution_count": 8,
   "metadata": {},
   "outputs": [
    {
     "name": "stdout",
     "output_type": "stream",
     "text": [
      "<class 'pandas.core.frame.DataFrame'>\n",
      "RangeIndex: 200000 entries, 0 to 199999\n",
      "Data columns (total 8 columns):\n",
      " #   Column            Non-Null Count   Dtype \n",
      "---  ------            --------------   ----- \n",
      " 0   review_id         200000 non-null  object\n",
      " 1   product_id        200000 non-null  object\n",
      " 2   reviewer_id       200000 non-null  object\n",
      " 3   stars             200000 non-null  int64 \n",
      " 4   review_body       200000 non-null  object\n",
      " 5   review_title      200000 non-null  object\n",
      " 6   language          200000 non-null  object\n",
      " 7   product_category  200000 non-null  object\n",
      "dtypes: int64(1), object(7)\n",
      "memory usage: 12.2+ MB\n"
     ]
    }
   ],
   "source": [
    "data.info()"
   ]
  },
  {
   "cell_type": "code",
   "execution_count": 9,
   "metadata": {},
   "outputs": [
    {
     "data": {
      "text/plain": [
       "home                        26962\n",
       "wireless                    25886\n",
       "toy                         13647\n",
       "sports                      13189\n",
       "pc                          11191\n",
       "home_improvement            10879\n",
       "electronics                 10385\n",
       "beauty                       7337\n",
       "automotive                   7143\n",
       "kitchen                      6695\n",
       "apparel                      5737\n",
       "drugstore                    5513\n",
       "book                         5264\n",
       "furniture                    5229\n",
       "baby_product                 4881\n",
       "office_product               4771\n",
       "lawn_and_garden              4237\n",
       "other                        3937\n",
       "pet_products                 3713\n",
       "personal_care_appliances     3573\n",
       "luggage                      3328\n",
       "camera                       3029\n",
       "shoes                        2754\n",
       "digital_ebook_purchase       1843\n",
       "video_games                  1733\n",
       "jewelry                      1598\n",
       "musical_instruments          1530\n",
       "watch                        1490\n",
       "industrial_supplies          1482\n",
       "grocery                      1044\n",
       "Name: product_category, dtype: int64"
      ]
     },
     "execution_count": 9,
     "metadata": {},
     "output_type": "execute_result"
    }
   ],
   "source": [
    "data.product_category.value_counts()"
   ]
  },
  {
   "cell_type": "code",
   "execution_count": 24,
   "metadata": {},
   "outputs": [
    {
     "data": {
      "text/html": [
       "<div>\n",
       "<style scoped>\n",
       "    .dataframe tbody tr th:only-of-type {\n",
       "        vertical-align: middle;\n",
       "    }\n",
       "\n",
       "    .dataframe tbody tr th {\n",
       "        vertical-align: top;\n",
       "    }\n",
       "\n",
       "    .dataframe thead th {\n",
       "        text-align: right;\n",
       "    }\n",
       "</style>\n",
       "<table border=\"1\" class=\"dataframe\">\n",
       "  <thead>\n",
       "    <tr style=\"text-align: right;\">\n",
       "      <th></th>\n",
       "      <th>product_category</th>\n",
       "      <th>avg_stars</th>\n",
       "      <th>rev_count</th>\n",
       "    </tr>\n",
       "  </thead>\n",
       "  <tbody>\n",
       "    <tr>\n",
       "      <th>16</th>\n",
       "      <td>lawn_and_garden</td>\n",
       "      <td>2.773189</td>\n",
       "      <td>4237</td>\n",
       "    </tr>\n",
       "    <tr>\n",
       "      <th>29</th>\n",
       "      <td>wireless</td>\n",
       "      <td>2.821834</td>\n",
       "      <td>25886</td>\n",
       "    </tr>\n",
       "    <tr>\n",
       "      <th>0</th>\n",
       "      <td>apparel</td>\n",
       "      <td>2.866829</td>\n",
       "      <td>5737</td>\n",
       "    </tr>\n",
       "    <tr>\n",
       "      <th>8</th>\n",
       "      <td>electronics</td>\n",
       "      <td>2.887626</td>\n",
       "      <td>10385</td>\n",
       "    </tr>\n",
       "    <tr>\n",
       "      <th>14</th>\n",
       "      <td>jewelry</td>\n",
       "      <td>2.930538</td>\n",
       "      <td>1598</td>\n",
       "    </tr>\n",
       "    <tr>\n",
       "      <th>3</th>\n",
       "      <td>beauty</td>\n",
       "      <td>2.935805</td>\n",
       "      <td>7337</td>\n",
       "    </tr>\n",
       "    <tr>\n",
       "      <th>1</th>\n",
       "      <td>automotive</td>\n",
       "      <td>2.950721</td>\n",
       "      <td>7143</td>\n",
       "    </tr>\n",
       "    <tr>\n",
       "      <th>11</th>\n",
       "      <td>home</td>\n",
       "      <td>2.980380</td>\n",
       "      <td>26962</td>\n",
       "    </tr>\n",
       "    <tr>\n",
       "      <th>23</th>\n",
       "      <td>pet_products</td>\n",
       "      <td>2.991112</td>\n",
       "      <td>3713</td>\n",
       "    </tr>\n",
       "    <tr>\n",
       "      <th>28</th>\n",
       "      <td>watch</td>\n",
       "      <td>3.001342</td>\n",
       "      <td>1490</td>\n",
       "    </tr>\n",
       "    <tr>\n",
       "      <th>7</th>\n",
       "      <td>drugstore</td>\n",
       "      <td>3.010521</td>\n",
       "      <td>5513</td>\n",
       "    </tr>\n",
       "    <tr>\n",
       "      <th>15</th>\n",
       "      <td>kitchen</td>\n",
       "      <td>3.016281</td>\n",
       "      <td>6695</td>\n",
       "    </tr>\n",
       "    <tr>\n",
       "      <th>22</th>\n",
       "      <td>personal_care_appliances</td>\n",
       "      <td>3.022950</td>\n",
       "      <td>3573</td>\n",
       "    </tr>\n",
       "    <tr>\n",
       "      <th>25</th>\n",
       "      <td>sports</td>\n",
       "      <td>3.034650</td>\n",
       "      <td>13189</td>\n",
       "    </tr>\n",
       "    <tr>\n",
       "      <th>12</th>\n",
       "      <td>home_improvement</td>\n",
       "      <td>3.036584</td>\n",
       "      <td>10879</td>\n",
       "    </tr>\n",
       "    <tr>\n",
       "      <th>26</th>\n",
       "      <td>toy</td>\n",
       "      <td>3.042061</td>\n",
       "      <td>13647</td>\n",
       "    </tr>\n",
       "    <tr>\n",
       "      <th>9</th>\n",
       "      <td>furniture</td>\n",
       "      <td>3.048958</td>\n",
       "      <td>5229</td>\n",
       "    </tr>\n",
       "    <tr>\n",
       "      <th>21</th>\n",
       "      <td>pc</td>\n",
       "      <td>3.062550</td>\n",
       "      <td>11191</td>\n",
       "    </tr>\n",
       "    <tr>\n",
       "      <th>13</th>\n",
       "      <td>industrial_supplies</td>\n",
       "      <td>3.078947</td>\n",
       "      <td>1482</td>\n",
       "    </tr>\n",
       "    <tr>\n",
       "      <th>20</th>\n",
       "      <td>other</td>\n",
       "      <td>3.079756</td>\n",
       "      <td>3937</td>\n",
       "    </tr>\n",
       "    <tr>\n",
       "      <th>19</th>\n",
       "      <td>office_product</td>\n",
       "      <td>3.086565</td>\n",
       "      <td>4771</td>\n",
       "    </tr>\n",
       "    <tr>\n",
       "      <th>2</th>\n",
       "      <td>baby_product</td>\n",
       "      <td>3.089326</td>\n",
       "      <td>4881</td>\n",
       "    </tr>\n",
       "    <tr>\n",
       "      <th>5</th>\n",
       "      <td>camera</td>\n",
       "      <td>3.109277</td>\n",
       "      <td>3029</td>\n",
       "    </tr>\n",
       "    <tr>\n",
       "      <th>24</th>\n",
       "      <td>shoes</td>\n",
       "      <td>3.109296</td>\n",
       "      <td>2754</td>\n",
       "    </tr>\n",
       "    <tr>\n",
       "      <th>27</th>\n",
       "      <td>video_games</td>\n",
       "      <td>3.124639</td>\n",
       "      <td>1733</td>\n",
       "    </tr>\n",
       "    <tr>\n",
       "      <th>10</th>\n",
       "      <td>grocery</td>\n",
       "      <td>3.147510</td>\n",
       "      <td>1044</td>\n",
       "    </tr>\n",
       "    <tr>\n",
       "      <th>18</th>\n",
       "      <td>musical_instruments</td>\n",
       "      <td>3.225490</td>\n",
       "      <td>1530</td>\n",
       "    </tr>\n",
       "    <tr>\n",
       "      <th>17</th>\n",
       "      <td>luggage</td>\n",
       "      <td>3.293570</td>\n",
       "      <td>3328</td>\n",
       "    </tr>\n",
       "    <tr>\n",
       "      <th>6</th>\n",
       "      <td>digital_ebook_purchase</td>\n",
       "      <td>3.357027</td>\n",
       "      <td>1843</td>\n",
       "    </tr>\n",
       "    <tr>\n",
       "      <th>4</th>\n",
       "      <td>book</td>\n",
       "      <td>3.399316</td>\n",
       "      <td>5264</td>\n",
       "    </tr>\n",
       "  </tbody>\n",
       "</table>\n",
       "</div>"
      ],
      "text/plain": [
       "            product_category  avg_stars  rev_count\n",
       "16           lawn_and_garden   2.773189       4237\n",
       "29                  wireless   2.821834      25886\n",
       "0                    apparel   2.866829       5737\n",
       "8                electronics   2.887626      10385\n",
       "14                   jewelry   2.930538       1598\n",
       "3                     beauty   2.935805       7337\n",
       "1                 automotive   2.950721       7143\n",
       "11                      home   2.980380      26962\n",
       "23              pet_products   2.991112       3713\n",
       "28                     watch   3.001342       1490\n",
       "7                  drugstore   3.010521       5513\n",
       "15                   kitchen   3.016281       6695\n",
       "22  personal_care_appliances   3.022950       3573\n",
       "25                    sports   3.034650      13189\n",
       "12          home_improvement   3.036584      10879\n",
       "26                       toy   3.042061      13647\n",
       "9                  furniture   3.048958       5229\n",
       "21                        pc   3.062550      11191\n",
       "13       industrial_supplies   3.078947       1482\n",
       "20                     other   3.079756       3937\n",
       "19            office_product   3.086565       4771\n",
       "2               baby_product   3.089326       4881\n",
       "5                     camera   3.109277       3029\n",
       "24                     shoes   3.109296       2754\n",
       "27               video_games   3.124639       1733\n",
       "10                   grocery   3.147510       1044\n",
       "18       musical_instruments   3.225490       1530\n",
       "17                   luggage   3.293570       3328\n",
       "6     digital_ebook_purchase   3.357027       1843\n",
       "4                       book   3.399316       5264"
      ]
     },
     "execution_count": 24,
     "metadata": {},
     "output_type": "execute_result"
    }
   ],
   "source": [
    "# Ver cantidad de usuarios que valoraron con cada número estrellas las distintas categorías\n",
    "# data_grouped = data.review_id.groupby([data['product_category'],data['stars']]).count().astype(int).reset_index(name='count')\n",
    "from statistics import mean\n",
    "data_grouped = data.stars.groupby([data['product_category']]).mean().reset_index(name='avg_stars')\n",
    "data_grouped['rev_count'] = data.stars.groupby([data['product_category']]).count().astype(int).reset_index(name='rev_count').rev_count\n",
    "data_grouped.sort_values(by='avg_stars')"
   ]
  },
  {
   "cell_type": "code",
   "execution_count": 30,
   "metadata": {},
   "outputs": [
    {
     "data": {
      "text/html": [
       "<div>\n",
       "<style scoped>\n",
       "    .dataframe tbody tr th:only-of-type {\n",
       "        vertical-align: middle;\n",
       "    }\n",
       "\n",
       "    .dataframe tbody tr th {\n",
       "        vertical-align: top;\n",
       "    }\n",
       "\n",
       "    .dataframe thead th {\n",
       "        text-align: right;\n",
       "    }\n",
       "</style>\n",
       "<table border=\"1\" class=\"dataframe\">\n",
       "  <thead>\n",
       "    <tr style=\"text-align: right;\">\n",
       "      <th></th>\n",
       "      <th>product_category</th>\n",
       "      <th>stars</th>\n",
       "      <th>count</th>\n",
       "    </tr>\n",
       "  </thead>\n",
       "  <tbody>\n",
       "    <tr>\n",
       "      <th>0</th>\n",
       "      <td>apparel</td>\n",
       "      <td>1</td>\n",
       "      <td>1273</td>\n",
       "    </tr>\n",
       "    <tr>\n",
       "      <th>1</th>\n",
       "      <td>apparel</td>\n",
       "      <td>2</td>\n",
       "      <td>1205</td>\n",
       "    </tr>\n",
       "    <tr>\n",
       "      <th>2</th>\n",
       "      <td>apparel</td>\n",
       "      <td>3</td>\n",
       "      <td>1200</td>\n",
       "    </tr>\n",
       "    <tr>\n",
       "      <th>3</th>\n",
       "      <td>apparel</td>\n",
       "      <td>4</td>\n",
       "      <td>1131</td>\n",
       "    </tr>\n",
       "    <tr>\n",
       "      <th>4</th>\n",
       "      <td>apparel</td>\n",
       "      <td>5</td>\n",
       "      <td>928</td>\n",
       "    </tr>\n",
       "    <tr>\n",
       "      <th>...</th>\n",
       "      <td>...</td>\n",
       "      <td>...</td>\n",
       "      <td>...</td>\n",
       "    </tr>\n",
       "    <tr>\n",
       "      <th>145</th>\n",
       "      <td>wireless</td>\n",
       "      <td>1</td>\n",
       "      <td>6283</td>\n",
       "    </tr>\n",
       "    <tr>\n",
       "      <th>146</th>\n",
       "      <td>wireless</td>\n",
       "      <td>2</td>\n",
       "      <td>5684</td>\n",
       "    </tr>\n",
       "    <tr>\n",
       "      <th>147</th>\n",
       "      <td>wireless</td>\n",
       "      <td>3</td>\n",
       "      <td>4797</td>\n",
       "    </tr>\n",
       "    <tr>\n",
       "      <th>148</th>\n",
       "      <td>wireless</td>\n",
       "      <td>4</td>\n",
       "      <td>4606</td>\n",
       "    </tr>\n",
       "    <tr>\n",
       "      <th>149</th>\n",
       "      <td>wireless</td>\n",
       "      <td>5</td>\n",
       "      <td>4516</td>\n",
       "    </tr>\n",
       "  </tbody>\n",
       "</table>\n",
       "<p>150 rows × 3 columns</p>\n",
       "</div>"
      ],
      "text/plain": [
       "    product_category  stars  count\n",
       "0            apparel      1   1273\n",
       "1            apparel      2   1205\n",
       "2            apparel      3   1200\n",
       "3            apparel      4   1131\n",
       "4            apparel      5    928\n",
       "..               ...    ...    ...\n",
       "145         wireless      1   6283\n",
       "146         wireless      2   5684\n",
       "147         wireless      3   4797\n",
       "148         wireless      4   4606\n",
       "149         wireless      5   4516\n",
       "\n",
       "[150 rows x 3 columns]"
      ]
     },
     "execution_count": 30,
     "metadata": {},
     "output_type": "execute_result"
    }
   ],
   "source": [
    "data_grouped = data.review_id.groupby([data['product_category'],data['stars']]).count().astype(int).reset_index(name='count')\n",
    "data_grouped"
   ]
  },
  {
   "cell_type": "code",
   "execution_count": 79,
   "metadata": {},
   "outputs": [
    {
     "data": {
      "text/plain": [
       "1    40000\n",
       "2    40000\n",
       "3    40000\n",
       "4    40000\n",
       "5    40000\n",
       "Name: stars, dtype: int64"
      ]
     },
     "execution_count": 79,
     "metadata": {},
     "output_type": "execute_result"
    }
   ],
   "source": [
    "data.stars.value_counts()"
   ]
  },
  {
   "cell_type": "code",
   "execution_count": 32,
   "metadata": {},
   "outputs": [
    {
     "data": {
      "image/png": "[encoded data removed]",
      "text/plain": [
       "<Figure size 1080x360 with 1 Axes>"
      ]
     },
     "metadata": {},
     "output_type": "display_data"
    }
   ],
   "source": [
    "# \n",
    "#data_grouped.sort_values(['rev_count','avg_stars'],ascending=False,inplace=True)\n",
    "plt.figure(figsize=(15,5))\n",
    "grafico = sns.countplot(x=data['product_category'],data=data, hue='stars')\n",
    "#grafico = sns.barplot(x=data_grouped.product_category, y=data_grouped.rev_count, linewidth=1,edgecolor=(0,0,0))\n",
    "grafico.set_xticklabels(grafico.get_xticklabels(), rotation=45, ha=\"right\")\n",
    "plt.show()"
   ]
  },
  {
   "cell_type": "code",
   "execution_count": 49,
   "metadata": {},
   "outputs": [
    {
     "name": "stdout",
     "output_type": "stream",
     "text": [
      "De las 200000 reseñas, sólo 179076 fueron hechas por usuarios únicos.\n",
      "Esto equivale al 89.538 %\n"
     ]
    }
   ],
   "source": [
    "# Ver cuántos usuarios únicos publicaron\n",
    "unique_usrs = len(data.reviewer_id.unique())\n",
    "print(\"De las\", data.shape[0],\"reseñas, sólo\", unique_usrs, \"fueron hechas por usuarios únicos.\")\n",
    "print(\"Esto equivale al\", unique_usrs/data.shape[0]*100,\"%\")"
   ]
  },
  {
   "cell_type": "code",
   "execution_count": 50,
   "metadata": {},
   "outputs": [
    {
     "name": "stdout",
     "output_type": "stream",
     "text": [
      "De las 200000 reseñas, sólo se mencionan 150938 productos únicos.\n",
      "Esto equivale al 75.469 %\n"
     ]
    }
   ],
   "source": [
    "# Ver sobre cuántos productos únicos se publicaron reseñas\n",
    "unique_prods = len(data.product_id.unique())\n",
    "print(\"De las\", data.shape[0],\"reseñas, sólo se mencionan\", unique_prods , \"productos únicos.\")\n",
    "print(\"Esto equivale al\", unique_prods/data.shape[0]*100,\"%\")"
   ]
  },
  {
   "cell_type": "code",
   "execution_count": 59,
   "metadata": {},
   "outputs": [
    {
     "name": "stdout",
     "output_type": "stream",
     "text": [
      "Cantidad de reseñas del usuario reviewer_es_0468858 : 1\n",
      "Promedio de estrellas que ha dado: 3.0\n"
     ]
    },
    {
     "data": {
      "text/html": [
       "<div>\n",
       "<style scoped>\n",
       "    .dataframe tbody tr th:only-of-type {\n",
       "        vertical-align: middle;\n",
       "    }\n",
       "\n",
       "    .dataframe tbody tr th {\n",
       "        vertical-align: top;\n",
       "    }\n",
       "\n",
       "    .dataframe thead th {\n",
       "        text-align: right;\n",
       "    }\n",
       "</style>\n",
       "<table border=\"1\" class=\"dataframe\">\n",
       "  <thead>\n",
       "    <tr style=\"text-align: right;\">\n",
       "      <th></th>\n",
       "      <th>reviewer_id</th>\n",
       "      <th>product_category</th>\n",
       "      <th>review_title</th>\n",
       "      <th>review_body</th>\n",
       "      <th>stars</th>\n",
       "    </tr>\n",
       "  </thead>\n",
       "  <tbody>\n",
       "    <tr>\n",
       "      <th>108594</th>\n",
       "      <td>reviewer_es_0468858</td>\n",
       "      <td>automotive</td>\n",
       "      <td>Bien por lo que vale.</td>\n",
       "      <td>Está bien teniendo en cuenta su precio. El plá...</td>\n",
       "      <td>3</td>\n",
       "    </tr>\n",
       "  </tbody>\n",
       "</table>\n",
       "</div>"
      ],
      "text/plain": [
       "                reviewer_id product_category           review_title  \\\n",
       "108594  reviewer_es_0468858       automotive  Bien por lo que vale.   \n",
       "\n",
       "                                              review_body  stars  \n",
       "108594  Está bien teniendo en cuenta su precio. El plá...      3  "
      ]
     },
     "execution_count": 59,
     "metadata": {},
     "output_type": "execute_result"
    }
   ],
   "source": [
    "# Vemos las reseñas de un solo usuario\n",
    "rand_idx = np.random.randint(0,data.shape[0])\n",
    "usr = data.reviewer_id.iloc[rand_idx]\n",
    "usr_data = data[data.reviewer_id == usr]\n",
    "print(\"Cantidad de reseñas del usuario\", usr,\":\", len(usr_data))\n",
    "print(\"Promedio de estrellas que ha dado:\", usr_data.stars.mean())\n",
    "usr_data[['reviewer_id','product_category','review_title','review_body','stars']]"
   ]
  },
  {
   "cell_type": "code",
   "execution_count": 4,
   "metadata": {},
   "outputs": [],
   "source": [
    "# Previamente\n",
    "## python -m spacy download es\n",
    "## python -m spacy download es_core_news_sm\n",
    "\n",
    "import spacy # https://spacy.io/usage/models\n",
    "nlp = spacy.load('es_core_news_sm')\n",
    "\n",
    "#Stop Words de es_core_news_sm\n",
    "from spacy.lang.es.stop_words import STOP_WORDS\n",
    "stopwords_spacy = list(STOP_WORDS)\n",
    "# Quitamos palabras como 'no', 'bueno', 'buena' que nos pueden ser últiles para predecir\n",
    "stopwords_spacy.remove('no')\n",
    "stopwords_spacy.remove('bueno')\n",
    "stopwords_spacy.remove('buena')"
   ]
  },
  {
   "cell_type": "code",
   "execution_count": 5,
   "metadata": {},
   "outputs": [],
   "source": [
    "#Stop Words de nltk\n",
    "import nltk\n",
    "from nltk.corpus import stopwords\n",
    "stopwords_nltk = set(stopwords.words('spanish'))\n",
    "stopwords_nltk.remove('no')"
   ]
  },
  {
   "cell_type": "markdown",
   "metadata": {},
   "source": [
    "**Stopwords de spaCy:** https://github.com/explosion/spaCy/blob/master/spacy/lang/es/stop_words.py\n",
    "<br> vs<br>\n",
    "**Stopwords de NLTK:** https://github.com/Alir3z4/stop-words/blob/bd8cc1434faeb3449735ed570a4a392ab5d35291/spanish.txt\n",
    "\n",
    "Está bastante mejor el de NLTK porque spaCy tiene palabras como \"bueno\" y \"bien\""
   ]
  },
  {
   "cell_type": "code",
   "execution_count": 6,
   "metadata": {},
   "outputs": [
    {
     "data": {
      "text/html": [
       "<div>\n",
       "<style scoped>\n",
       "    .dataframe tbody tr th:only-of-type {\n",
       "        vertical-align: middle;\n",
       "    }\n",
       "\n",
       "    .dataframe tbody tr th {\n",
       "        vertical-align: top;\n",
       "    }\n",
       "\n",
       "    .dataframe thead th {\n",
       "        text-align: right;\n",
       "    }\n",
       "</style>\n",
       "<table border=\"1\" class=\"dataframe\">\n",
       "  <thead>\n",
       "    <tr style=\"text-align: right;\">\n",
       "      <th></th>\n",
       "      <th>product_category</th>\n",
       "      <th>review_title</th>\n",
       "      <th>review_body</th>\n",
       "      <th>stars</th>\n",
       "    </tr>\n",
       "  </thead>\n",
       "  <tbody>\n",
       "    <tr>\n",
       "      <th>0</th>\n",
       "      <td>wireless</td>\n",
       "      <td>Mala compra</td>\n",
       "      <td>Malisimo, muy grande demasiado aparatoso y mal...</td>\n",
       "      <td>1</td>\n",
       "    </tr>\n",
       "    <tr>\n",
       "      <th>1</th>\n",
       "      <td>apparel</td>\n",
       "      <td>No lo he recibido</td>\n",
       "      <td>No he recibido el pedido no la devolución</td>\n",
       "      <td>1</td>\n",
       "    </tr>\n",
       "    <tr>\n",
       "      <th>2</th>\n",
       "      <td>sports</td>\n",
       "      <td>Que no aprieta bien en el manillar</td>\n",
       "      <td>Tengo que buscar otro sistema, este no funcion...</td>\n",
       "      <td>1</td>\n",
       "    </tr>\n",
       "    <tr>\n",
       "      <th>3</th>\n",
       "      <td>home_improvement</td>\n",
       "      <td>Brocas de mantequilla</td>\n",
       "      <td>Utilicé las brocas de menor diámetro y se me d...</td>\n",
       "      <td>1</td>\n",
       "    </tr>\n",
       "    <tr>\n",
       "      <th>4</th>\n",
       "      <td>beauty</td>\n",
       "      <td>No me gusta</td>\n",
       "      <td>No me gusta su olor a viejo y aspecto malo</td>\n",
       "      <td>1</td>\n",
       "    </tr>\n",
       "  </tbody>\n",
       "</table>\n",
       "</div>"
      ],
      "text/plain": [
       "   product_category                        review_title  \\\n",
       "0          wireless                         Mala compra   \n",
       "1           apparel                   No lo he recibido   \n",
       "2            sports  Que no aprieta bien en el manillar   \n",
       "3  home_improvement               Brocas de mantequilla   \n",
       "4            beauty                         No me gusta   \n",
       "\n",
       "                                         review_body  stars  \n",
       "0  Malisimo, muy grande demasiado aparatoso y mal...      1  \n",
       "1          No he recibido el pedido no la devolución      1  \n",
       "2  Tengo que buscar otro sistema, este no funcion...      1  \n",
       "3  Utilicé las brocas de menor diámetro y se me d...      1  \n",
       "4         No me gusta su olor a viejo y aspecto malo      1  "
      ]
     },
     "execution_count": 6,
     "metadata": {},
     "output_type": "execute_result"
    }
   ],
   "source": [
    "# Nos quedamos con las columnas del dataset que son relevantes para predecir la valoración en general\n",
    "# Por eso se descartan las columnas de id de usuario y producto\n",
    "# La de categoría nos puede servir para relacionar palabras\n",
    "# La del idioma es redundante\n",
    "df = data[['product_category','review_title','review_body','stars']]\n",
    "df.head()"
   ]
  },
  {
   "cell_type": "code",
   "execution_count": 88,
   "metadata": {},
   "outputs": [
    {
     "name": "stdout",
     "output_type": "stream",
     "text": [
      "135750 Segura y funcional Segura, buen diseño y relación calidad-precio. Únicamente deberían mejorar las instrucciones, difícil montaje\n"
     ]
    }
   ],
   "source": [
    "# Miramos una review al azar\n",
    "random_index = np.random.randint(0,df.shape[0])\n",
    "review = df.review_body.iloc[random_index]\n",
    "title = df.review_title.iloc[random_index]\n",
    "print(random_index, title, '\\n',review)\n",
    "print('Puntuación:',df.stars[random_index])\n",
    "print('Categoría:', df.product_category[random_index])"
   ]
  },
  {
   "cell_type": "code",
   "execution_count": 12,
   "metadata": {},
   "outputs": [],
   "source": [
    "#Constante de signos de puntuación\n",
    "#import string\n",
    "#puntua = string.punctuation + '¡¿'\n",
    "\n",
    "#Función para limpieza de datos\n",
    "def text_data_lemma_2(sentence):\n",
    "    doc = nlp(sentence)\n",
    "    \n",
    "    clean_tokens = []\n",
    "    for token in doc:\n",
    "        if (token.pos_ not in excluded_pos and str(token) not in stopwords_spacy): \n",
    "            temp = token.lemma_.strip()\n",
    "            clean_tokens.append(temp.lower())\n",
    "    \n",
    "    return clean_tokens"
   ]
  },
  {
   "cell_type": "code",
   "execution_count": 101,
   "metadata": {},
   "outputs": [
    {
     "data": {
      "text/plain": [
       "['Segura',\n",
       " 'diseño',\n",
       " 'y',\n",
       " 'relación',\n",
       " 'calidad-precio',\n",
       " 'únicamente',\n",
       " 'deber',\n",
       " 'mejorar',\n",
       " 'instrucción',\n",
       " 'difícil',\n",
       " 'montaje']"
      ]
     },
     "execution_count": 101,
     "metadata": {},
     "output_type": "execute_result"
    }
   ],
   "source": [
    "clean_review = text_data_lemma(review)\n",
    "clean_review"
   ]
  },
  {
   "cell_type": "code",
   "execution_count": 100,
   "metadata": {},
   "outputs": [
    {
     "name": "stdout",
     "output_type": "stream",
     "text": [
      "segura y funcional \n",
      " segura  buen diseño y relación calidad precio  únicamente deberían mejorar las instrucciones  difícil montaje \n",
      "\n",
      "segura\n",
      "y\n",
      "funcional\n",
      "segura\n",
      " \n",
      "diseño\n",
      "y\n",
      "relación\n",
      "calidad\n",
      "precio\n",
      " \n",
      "únicamente\n",
      "deberían\n",
      "mejorar\n",
      "instrucciones\n",
      " \n",
      "difícil\n",
      "montaje\n"
     ]
    }
   ],
   "source": [
    "# Pasar todo a minúscula y quitar lo que no sea texto o espacio\n",
    "import re\n",
    "review_sin_punct = re.sub(\"[^a-zA-ZáéíóúÁÉÍÓÚÑñüÜ]\", \" \", str(review.lower())) # re.sub(pattern, repl, string, count=0, flags=0) --> Return the string obtained by replacing the leftmost non-overlapping occurrences of pattern in string by the replacement repl.\n",
    "title_sin_punct = re.sub(\"[^a-zA-ZáéíóúÁÉÍÓÚÑñüÜ]\", \" \", str(title.lower()))\n",
    "print(title_sin_punct,'\\n',review_sin_punct,'\\n')\n",
    "\n",
    "# Tokenizar\n",
    "doc = nlp(title_sin_punct + ' ' + review_sin_punct)\n",
    "# print(doc)\n",
    "rev = []\n",
    "for token in doc:\n",
    "    if(str(token) not in stopwords_spacy):\n",
    "        rev.append(token)\n",
    "        print(token)"
   ]
  },
  {
   "cell_type": "code",
   "execution_count": 97,
   "metadata": {},
   "outputs": [
    {
     "data": {
      "text/plain": [
       "['seguro',\n",
       " 'funcional',\n",
       " 'seguro',\n",
       " 'buen',\n",
       " 'diseño',\n",
       " 'relación',\n",
       " 'calidad',\n",
       " 'precio',\n",
       " 'únicamente',\n",
       " 'deber',\n",
       " 'mejorar',\n",
       " 'instrucción',\n",
       " 'difícil',\n",
       " 'montaje']"
      ]
     },
     "execution_count": 97,
     "metadata": {},
     "output_type": "execute_result"
    }
   ],
   "source": [
    "# Lemmatización\n",
    "rev_lemma = []\n",
    "rev_lemma = [w.lemma_ for w in rev if not w.pos_ == 'SPACE'] # Lemmatizamos y filtramos espacios\n",
    "rev_lemma\n",
    "\n",
    "# rev_lemma.clear()"
   ]
  },
  {
   "cell_type": "code",
   "execution_count": null,
   "metadata": {},
   "outputs": [],
   "source": [
    "# Quitamos palabras duplicadas si las hubiera\n",
    "[res.append(x) for x in test_list if x not in res] "
   ]
  },
  {
   "cell_type": "code",
   "execution_count": 10,
   "metadata": {},
   "outputs": [
    {
     "name": "stdout",
     "output_type": "stream",
     "text": [
      "fachero  -  fachero  -  NOUN\n",
      "buenardo  -  buenardo  -  ADJ\n",
      "flashero  -  flashero  -  ADJ\n",
      "flasheado  -  flasheado  -  ADJ\n",
      "cool  -  cool  -  NOUN\n",
      "malisimo  -  malisimo  -  ADJ\n",
      "malísimo  -  malísimo  -  ADJ\n",
      "malardo  -  malardo  -  ADJ\n",
      "mina  -  mina  -  NOUN\n",
      "flasherísimo  -  flasherísimo  -  ADJ\n",
      "flasherisimo  -  flasherisimo  -  ADJ\n",
      "chavon  -  chavon  -  NOUN\n"
     ]
    },
    {
     "data": {
      "text/plain": [
       "[fachero,\n",
       " buenardo,\n",
       " flashero,\n",
       " flasheado,\n",
       " cool,\n",
       " malisimo,\n",
       " malísimo,\n",
       " malardo,\n",
       " mina,\n",
       " flasherísimo,\n",
       " flasherisimo,\n",
       " chavon]"
      ]
     },
     "execution_count": 10,
     "metadata": {},
     "output_type": "execute_result"
    }
   ],
   "source": [
    "# Cómo clasifica palabras lunfardas que pueden aparecer\n",
    "palabra = 'fachero buenardo flashero flasheado cool malisimo malísimo malardo mina flasherísimo flasherisimo chavon'\n",
    "palabra = nlp(palabra)\n",
    "palabras_lunfardas = []\n",
    "for t in palabra:\n",
    "    print(t,\" - \",t.lemma_, \" - \", t.pos_)\n",
    "    palabras_lunfardas.append(t)\n",
    "palabras_lunfardas\n"
   ]
  },
  {
   "cell_type": "code",
   "execution_count": 82,
   "metadata": {},
   "outputs": [],
   "source": [
    "import nltk\n",
    "import re\n",
    "from nltk.tokenize import RegexpTokenizer\n",
    "stopwords = nltk.corpus.stopwords.words('spanish')\n",
    "stopwords.remove('no')"
   ]
  },
  {
   "cell_type": "code",
   "execution_count": 9,
   "metadata": {},
   "outputs": [],
   "source": [
    "data_star_1 = data[data['stars']==1]\n",
    "data_star_2 = data[data['stars']==2]\n",
    "data_star_3 = data[data['stars']==3]\n",
    "data_star_4 = data[data['stars']==4]\n",
    "data_star_5 = data[data['stars']==5]"
   ]
  },
  {
   "cell_type": "code",
   "execution_count": 84,
   "metadata": {},
   "outputs": [
    {
     "name": "stdout",
     "output_type": "stream",
     "text": [
      "Cantidad de palabras filtradas: 40000\n"
     ]
    },
    {
     "data": {
      "text/plain": [
       "[['nada',\n",
       "  'bueno',\n",
       "  'pantalla',\n",
       "  'menos',\n",
       "  'meses',\n",
       "  'no',\n",
       "  'recibido',\n",
       "  'respuesta',\n",
       "  'fabricante'],\n",
       " ['horrible',\n",
       "  'comprar',\n",
       "  'sabemos',\n",
       "  'inglés',\n",
       "  'informático',\n",
       "  'después',\n",
       "  'hora',\n",
       "  'capaz',\n",
       "  'instalarlo'],\n",
       " ['obligan',\n",
       "  'comprar',\n",
       "  'unidades',\n",
       "  'llega',\n",
       "  'solo',\n",
       "  'no',\n",
       "  'forma',\n",
       "  'reclamar',\n",
       "  'autentica',\n",
       "  'estafa',\n",
       "  'no',\n",
       "  'compreis']]"
      ]
     },
     "execution_count": 84,
     "metadata": {},
     "output_type": "execute_result"
    }
   ],
   "source": [
    "todas_reviews_1 = []\n",
    "for i in data_star_1.index:\n",
    "    review1 = data_star_1.review_body[i] #seleccionar el titular\n",
    "    review1 = RegexpTokenizer('\\w+').tokenize(review1) # Tokenizar con RegexpTokenizer\n",
    "    review1 = [w.lower() for w in review1 if w not in stopwords] # Filtrar por stopwords\n",
    "    review1 = [w.lower() for w in review1 if len(w)>3 or w=='no' ] # Filtrar a las que tienen menos de 3 caracteres, salvo el 'no'\n",
    "    todas_reviews_1.append(review1) #agregar el resultado a la lista\n",
    "\n",
    "print('Cantidad de palabras filtradas:',len(todas_reviews_1))\n",
    "todas_reviews_1[:3]"
   ]
  },
  {
   "cell_type": "code",
   "execution_count": 85,
   "metadata": {},
   "outputs": [
    {
     "data": {
      "text/plain": [
       "['nada',\n",
       " 'bueno',\n",
       " 'pantalla',\n",
       " 'menos',\n",
       " 'meses',\n",
       " 'no',\n",
       " 'recibido',\n",
       " 'respuesta',\n",
       " 'fabricante',\n",
       " 'horrible']"
      ]
     },
     "execution_count": 85,
     "metadata": {},
     "output_type": "execute_result"
    }
   ],
   "source": [
    "# Esta celda convierte una lista de listas en una unica lista\n",
    "import itertools\n",
    "plain_todas_reviews_1 = list(itertools.chain(*todas_reviews_1))\n",
    "plain_todas_reviews_1[0:10]"
   ]
  },
  {
   "cell_type": "code",
   "execution_count": 86,
   "metadata": {},
   "outputs": [
    {
     "data": {
      "text/plain": [
       "FreqDist({'no': 47970, 'producto': 7219, 'bien': 4448, 'calidad': 4349, 'llegado': 3422, 'recomiendo': 2812, 'amazon': 2749, 'mala': 2587, 'funciona': 2582, 'solo': 2537, ...})"
      ]
     },
     "execution_count": 86,
     "metadata": {},
     "output_type": "execute_result"
    }
   ],
   "source": [
    "freq_rev_1 = nltk.FreqDist(plain_todas_reviews_1)\n",
    "freq_rev_1"
   ]
  },
  {
   "cell_type": "code",
   "execution_count": 87,
   "metadata": {},
   "outputs": [
    {
     "name": "stdout",
     "output_type": "stream",
     "text": [
      "Cantidad de palabras luego de aplanar: 543902\n"
     ]
    }
   ],
   "source": [
    "print('Cantidad de palabras luego de aplanar:', len(plain_todas_reviews_1))"
   ]
  },
  {
   "cell_type": "code",
   "execution_count": 91,
   "metadata": {},
   "outputs": [
    {
     "data": {
      "text/html": [
       "<div>\n",
       "<style scoped>\n",
       "    .dataframe tbody tr th:only-of-type {\n",
       "        vertical-align: middle;\n",
       "    }\n",
       "\n",
       "    .dataframe tbody tr th {\n",
       "        vertical-align: top;\n",
       "    }\n",
       "\n",
       "    .dataframe thead th {\n",
       "        text-align: right;\n",
       "    }\n",
       "</style>\n",
       "<table border=\"1\" class=\"dataframe\">\n",
       "  <thead>\n",
       "    <tr style=\"text-align: right;\">\n",
       "      <th></th>\n",
       "      <th>Palabra</th>\n",
       "      <th>Frecuencia</th>\n",
       "    </tr>\n",
       "  </thead>\n",
       "  <tbody>\n",
       "    <tr>\n",
       "      <th>0</th>\n",
       "      <td>no</td>\n",
       "      <td>47970</td>\n",
       "    </tr>\n",
       "    <tr>\n",
       "      <th>1</th>\n",
       "      <td>producto</td>\n",
       "      <td>7219</td>\n",
       "    </tr>\n",
       "    <tr>\n",
       "      <th>2</th>\n",
       "      <td>bien</td>\n",
       "      <td>4448</td>\n",
       "    </tr>\n",
       "    <tr>\n",
       "      <th>3</th>\n",
       "      <td>calidad</td>\n",
       "      <td>4349</td>\n",
       "    </tr>\n",
       "    <tr>\n",
       "      <th>4</th>\n",
       "      <td>llegado</td>\n",
       "      <td>3422</td>\n",
       "    </tr>\n",
       "  </tbody>\n",
       "</table>\n",
       "</div>"
      ],
      "text/plain": [
       "    Palabra  Frecuencia\n",
       "0        no       47970\n",
       "1  producto        7219\n",
       "2      bien        4448\n",
       "3   calidad        4349\n",
       "4   llegado        3422"
      ]
     },
     "execution_count": 91,
     "metadata": {},
     "output_type": "execute_result"
    }
   ],
   "source": [
    "df_revs_1 = pd.DataFrame(freq_rev_1.items(), columns = ['Palabra', 'Frecuencia']) \n",
    "df_revs_1.sort_values(by=['Frecuencia'], inplace=True, ascending=False)\n",
    "df_revs_1.reset_index(drop = True, inplace=True)\n",
    "df_revs_1.head()"
   ]
  },
  {
   "cell_type": "code",
   "execution_count": 90,
   "metadata": {},
   "outputs": [
    {
     "data": {
      "text/html": [
       "<div>\n",
       "<style scoped>\n",
       "    .dataframe tbody tr th:only-of-type {\n",
       "        vertical-align: middle;\n",
       "    }\n",
       "\n",
       "    .dataframe tbody tr th {\n",
       "        vertical-align: top;\n",
       "    }\n",
       "\n",
       "    .dataframe thead th {\n",
       "        text-align: right;\n",
       "    }\n",
       "</style>\n",
       "<table border=\"1\" class=\"dataframe\">\n",
       "  <thead>\n",
       "    <tr style=\"text-align: right;\">\n",
       "      <th></th>\n",
       "      <th>Palabra</th>\n",
       "      <th>Frecuencia</th>\n",
       "    </tr>\n",
       "  </thead>\n",
       "  <tbody>\n",
       "    <tr>\n",
       "      <th>2725</th>\n",
       "      <td>desgastada</td>\n",
       "      <td>9</td>\n",
       "    </tr>\n",
       "    <tr>\n",
       "      <th>1601</th>\n",
       "      <td>habituales</td>\n",
       "      <td>9</td>\n",
       "    </tr>\n",
       "    <tr>\n",
       "      <th>10840</th>\n",
       "      <td>viajes</td>\n",
       "      <td>9</td>\n",
       "    </tr>\n",
       "    <tr>\n",
       "      <th>9782</th>\n",
       "      <td>notch</td>\n",
       "      <td>9</td>\n",
       "    </tr>\n",
       "    <tr>\n",
       "      <th>9800</th>\n",
       "      <td>pilla</td>\n",
       "      <td>9</td>\n",
       "    </tr>\n",
       "    <tr>\n",
       "      <th>...</th>\n",
       "      <td>...</td>\n",
       "      <td>...</td>\n",
       "    </tr>\n",
       "    <tr>\n",
       "      <th>17075</th>\n",
       "      <td>inmoviliza</td>\n",
       "      <td>1</td>\n",
       "    </tr>\n",
       "    <tr>\n",
       "      <th>17079</th>\n",
       "      <td>alucino</td>\n",
       "      <td>1</td>\n",
       "    </tr>\n",
       "    <tr>\n",
       "      <th>17080</th>\n",
       "      <td>atora</td>\n",
       "      <td>1</td>\n",
       "    </tr>\n",
       "    <tr>\n",
       "      <th>17081</th>\n",
       "      <td>pondremos</td>\n",
       "      <td>1</td>\n",
       "    </tr>\n",
       "    <tr>\n",
       "      <th>26713</th>\n",
       "      <td>aventurero</td>\n",
       "      <td>1</td>\n",
       "    </tr>\n",
       "  </tbody>\n",
       "</table>\n",
       "<p>21699 rows × 2 columns</p>\n",
       "</div>"
      ],
      "text/plain": [
       "          Palabra  Frecuencia\n",
       "2725   desgastada           9\n",
       "1601   habituales           9\n",
       "10840      viajes           9\n",
       "9782        notch           9\n",
       "9800        pilla           9\n",
       "...           ...         ...\n",
       "17075  inmoviliza           1\n",
       "17079     alucino           1\n",
       "17080       atora           1\n",
       "17081   pondremos           1\n",
       "26713  aventurero           1\n",
       "\n",
       "[21699 rows x 2 columns]"
      ]
     },
     "execution_count": 90,
     "metadata": {},
     "output_type": "execute_result"
    }
   ],
   "source": [
    "df_revs_1[df_revs_1['Frecuencia']<10]"
   ]
  },
  {
   "cell_type": "code",
   "execution_count": 93,
   "metadata": {},
   "outputs": [
    {
     "data": {
      "image/png": "[encoded data removed]",
      "text/plain": [
       "<Figure size 1080x576 with 1 Axes>"
      ]
     },
     "metadata": {},
     "output_type": "display_data"
    }
   ],
   "source": [
    "plt.figure(figsize = (15,8))\n",
    "plot = sns.barplot(x  = df_revs_1.iloc[1:30].Palabra, y = df_revs_1.iloc[1:30].Frecuencia)\n",
    "for item in plot.get_xticklabels():\n",
    "    item.set_rotation(90)\n",
    "plt.show()"
   ]
  },
  {
   "cell_type": "code",
   "execution_count": null,
   "metadata": {},
   "outputs": [],
   "source": [
    "def word_frecquency_df(dataframe):\n",
    "    todas_reviews = []\n",
    "    for i in dataframe.index:\n",
    "        review1 = dataframe.review_body[i] #seleccionar el titular\n",
    "        review1 = RegexpTokenizer('\\w+').tokenize(review1) # Tokenizar con RegexpTokenizer\n",
    "        review1 = [w.lower() for w in review1 if w not in stopwords_spacy] # Filtrar por stopwords\n",
    "        review1 = [w for w in review1 if len(w)>3 ] # Filtrar a las que tienen menos de 3 caracteres, salvo el 'no'\n",
    "        todas_reviews.append(review1) # Agregar el resultado a la lista\n",
    "    plain_todas_reviews = list(itertools.chain(*todas_reviews)) # Aplanar la lista\n",
    "    freq_revs = nltk.FreqDist(plain_todas_reviews) # Obtener frecuencia por palabra\n",
    "    df_revs = pd.DataFrame(freq_revs.items(), columns = ['Palabra', 'Frecuencia']) # Crear nuevo df\n",
    "    df_revs.sort_values(by=['Frecuencia'], inplace=True, ascending=False) # Ordenar valores por frecuencia\n",
    "    df_revs.reset_index(drop = True, inplace=True) # Resetear index\n",
    "    return df_revs"
   ]
  },
  {
   "cell_type": "markdown",
   "metadata": {},
   "source": [
    "## Vectorization Feature Engineering (TF-IDF)"
   ]
  },
  {
   "cell_type": "code",
   "execution_count": null,
   "metadata": {},
   "outputs": [],
   "source": []
  },
  {
   "cell_type": "code",
   "execution_count": 36,
   "metadata": {},
   "outputs": [],
   "source": [
    "train_data = pd.read_json(\"dataset_amazon/dataset_es_train.json\", lines = True)\n",
    "train_df = train_data[['product_category','review_title','review_body','stars']]\n",
    "# df.head()\n",
    "test_data = pd.read_json(\"dataset_amazon/dataset_es_test.json\", lines = True)\n",
    "test_df = test_data[['product_category','review_title','review_body','stars']]\n",
    "# df.head()"
   ]
  },
  {
   "cell_type": "code",
   "execution_count": 40,
   "metadata": {},
   "outputs": [
    {
     "name": "stdout",
     "output_type": "stream",
     "text": [
      "- Cantiudad de filas total del set de entrenamiento: 200000\n",
      "- Cantiudad de filas nulas por columna:\n"
     ]
    },
    {
     "data": {
      "text/plain": [
       "product_category    0\n",
       "review_title        0\n",
       "review_body         0\n",
       "stars               0\n",
       "dtype: int64"
      ]
     },
     "execution_count": 40,
     "metadata": {},
     "output_type": "execute_result"
    }
   ],
   "source": [
    "print(\"- Cantidad de filas total del set de entrenamiento:\", train_df.shape[0])\n",
    "print(\"- Cantidad de filas nulas por columna:\")\n",
    "train_df.isna().sum()"
   ]
  },
  {
   "cell_type": "code",
   "execution_count": 41,
   "metadata": {},
   "outputs": [
    {
     "name": "stdout",
     "output_type": "stream",
     "text": [
      "- Cantiudad de filas total del set de prueba: 5000\n",
      "- Cantiudad de filas nulas por columna:\n"
     ]
    },
    {
     "data": {
      "text/plain": [
       "product_category    0\n",
       "review_title        0\n",
       "review_body         0\n",
       "stars               0\n",
       "dtype: int64"
      ]
     },
     "execution_count": 41,
     "metadata": {},
     "output_type": "execute_result"
    }
   ],
   "source": [
    "print(\"- Cantidad de filas total del set de prueba:\", test_df.shape[0])\n",
    "print(\"- Cantidad de filas nulas por columna:\")\n",
    "test_df.isna().sum()"
   ]
  },
  {
   "cell_type": "markdown",
   "metadata": {},
   "source": [
    "Como el set de prueba es muy menor al set de entrenamiento (representa un 2,5% de los datos), vamos a juntar ambos datasets y con el `train_test_split` tomar un 30% para *test*.\n",
    "\n",
    "Además, esto permite reducir la carga de entrenamiento."
   ]
  },
  {
   "cell_type": "code",
   "execution_count": 50,
   "metadata": {},
   "outputs": [
    {
     "data": {
      "text/html": [
       "<div>\n",
       "<style scoped>\n",
       "    .dataframe tbody tr th:only-of-type {\n",
       "        vertical-align: middle;\n",
       "    }\n",
       "\n",
       "    .dataframe tbody tr th {\n",
       "        vertical-align: top;\n",
       "    }\n",
       "\n",
       "    .dataframe thead th {\n",
       "        text-align: right;\n",
       "    }\n",
       "</style>\n",
       "<table border=\"1\" class=\"dataframe\">\n",
       "  <thead>\n",
       "    <tr style=\"text-align: right;\">\n",
       "      <th></th>\n",
       "      <th>index</th>\n",
       "      <th>product_category</th>\n",
       "      <th>review_title</th>\n",
       "      <th>review_body</th>\n",
       "      <th>stars</th>\n",
       "    </tr>\n",
       "  </thead>\n",
       "  <tbody>\n",
       "    <tr>\n",
       "      <th>204995</th>\n",
       "      <td>4995</td>\n",
       "      <td>wireless</td>\n",
       "      <td>Perfectos para lo que sirven</td>\n",
       "      <td>Para lo que cuesta es perfecto porque cumple s...</td>\n",
       "      <td>5</td>\n",
       "    </tr>\n",
       "    <tr>\n",
       "      <th>204996</th>\n",
       "      <td>4996</td>\n",
       "      <td>wireless</td>\n",
       "      <td>Buen vendedor, rápido y fiable.</td>\n",
       "      <td>Material muy flexible y cómodo, acorde a la de...</td>\n",
       "      <td>5</td>\n",
       "    </tr>\n",
       "    <tr>\n",
       "      <th>204997</th>\n",
       "      <td>4997</td>\n",
       "      <td>home</td>\n",
       "      <td>medallas con bonito grabado</td>\n",
       "      <td>Se ve bien el grabado</td>\n",
       "      <td>5</td>\n",
       "    </tr>\n",
       "    <tr>\n",
       "      <th>204998</th>\n",
       "      <td>4998</td>\n",
       "      <td>sports</td>\n",
       "      <td>timbre</td>\n",
       "      <td>lo compré para mi bici pero finalmente se lo h...</td>\n",
       "      <td>5</td>\n",
       "    </tr>\n",
       "    <tr>\n",
       "      <th>204999</th>\n",
       "      <td>4999</td>\n",
       "      <td>electronics</td>\n",
       "      <td>Auriculares sin cables de verdad</td>\n",
       "      <td>Pues este tipo de cascos si que son inalambric...</td>\n",
       "      <td>5</td>\n",
       "    </tr>\n",
       "  </tbody>\n",
       "</table>\n",
       "</div>"
      ],
      "text/plain": [
       "        index product_category                      review_title  \\\n",
       "204995   4995         wireless      Perfectos para lo que sirven   \n",
       "204996   4996         wireless   Buen vendedor, rápido y fiable.   \n",
       "204997   4997             home       medallas con bonito grabado   \n",
       "204998   4998           sports                            timbre   \n",
       "204999   4999      electronics  Auriculares sin cables de verdad   \n",
       "\n",
       "                                              review_body  stars  \n",
       "204995  Para lo que cuesta es perfecto porque cumple s...      5  \n",
       "204996  Material muy flexible y cómodo, acorde a la de...      5  \n",
       "204997                              Se ve bien el grabado      5  \n",
       "204998  lo compré para mi bici pero finalmente se lo h...      5  \n",
       "204999  Pues este tipo de cascos si que son inalambric...      5  "
      ]
     },
     "execution_count": 50,
     "metadata": {},
     "output_type": "execute_result"
    }
   ],
   "source": [
    "df = pd.concat([train_df,test_df])\n",
    "df.reset_index().tail()"
   ]
  },
  {
   "cell_type": "markdown",
   "metadata": {},
   "source": [
    "### Tokenizacion y lemmatizacion"
   ]
  },
  {
   "cell_type": "code",
   "execution_count": 41,
   "metadata": {},
   "outputs": [],
   "source": [
    "# Importamos la función que nos permite Stemmizar de nltk y definimos el stemmer\n",
    "from nltk.stem import SnowballStemmer\n",
    "from nltk.stem.snowball import SpanishStemmer # Permite stemmizar palabras en español\n",
    "#print(\" \".join(SpanishStemmer.languages)) # Ver idiomas soportados"
   ]
  },
  {
   "cell_type": "code",
   "execution_count": 43,
   "metadata": {},
   "outputs": [],
   "source": [
    "stemmer = SpanishStemmer()"
   ]
  },
  {
   "cell_type": "code",
   "execution_count": 33,
   "metadata": {},
   "outputs": [],
   "source": [
    "#Constante de signos de puntuación\n",
    "import string\n",
    "puntua = string.punctuation + '¡¿...'\n",
    "excluded_pos = ['SCONJ','CCONJ','NUM','PUNCT','PRON','DET','ADP','AUX','X']"
   ]
  },
  {
   "cell_type": "code",
   "execution_count": 34,
   "metadata": {},
   "outputs": [],
   "source": [
    "#Función para limpieza de datos con lemmatizer\n",
    "def text_data_lemma(sentence):\n",
    "    doc = nlp(sentence)\n",
    "    \n",
    "    clean_tokens = []\n",
    "    for token in doc:\n",
    "        if (token.pos_ not in excluded_pos and str(token) not in stopwords_spacy): \n",
    "            temp = token.lemma_.strip()\n",
    "            clean_tokens.append(temp.lower())\n",
    "    \n",
    "    return clean_tokens"
   ]
  },
  {
   "cell_type": "code",
   "execution_count": 35,
   "metadata": {},
   "outputs": [],
   "source": [
    "#Función para limpieza de datos con stemmer\n",
    "def text_data_stem(sentence):\n",
    "    doc = nlp(sentence)\n",
    "    \n",
    "    clean_tokens = []\n",
    "    for token in doc:\n",
    "        if (token.pos_ not in excluded_pos and str(token) not in stopwords_spacy): \n",
    "            temp = stemmer.stem(token.text).strip()\n",
    "            clean_tokens.append(temp.lower())\n",
    "    \n",
    "    return clean_tokens"
   ]
  },
  {
   "cell_type": "code",
   "execution_count": 28,
   "metadata": {},
   "outputs": [
    {
     "name": "stdout",
     "output_type": "stream",
     "text": [
      "188352 Perfecto \n",
      " Lo uso para una tortuga ya bastante grande y la verdad es que el agua está siempre impecable. Lo limpio una vez a la semana. Es muy fácil y cómodo de limpiar\n",
      "- Valoración: 5\n",
      "- Categoría: pet_products\n"
     ]
    }
   ],
   "source": [
    "# Miramos una review al azar\n",
    "random_index = np.random.randint(0,df.shape[0])\n",
    "review = df.review_body.iloc[random_index]\n",
    "title = df.review_title.iloc[random_index]\n",
    "print(random_index, title, '\\n',review)\n",
    "print('- Valoración:',df.stars[random_index])\n",
    "print('- Categoría:', df.product_category[random_index])"
   ]
  },
  {
   "cell_type": "code",
   "execution_count": 44,
   "metadata": {},
   "outputs": [
    {
     "name": "stdout",
     "output_type": "stream",
     "text": [
      "Lo - PRON - lo\n",
      "uso - ADJ - uso\n",
      "para - ADP - par\n",
      "una - DET - una\n",
      "tortuga - NOUN - tortug\n",
      "ya - ADV - ya\n",
      "bastante - ADV - bastant\n",
      "grande - ADJ - grand\n",
      "y - CCONJ - y\n",
      "la - DET - la\n",
      "verdad - NOUN - verd\n",
      "es - AUX - es\n",
      "que - SCONJ - que\n",
      "el - DET - el\n",
      "agua - NOUN - agu\n",
      "está - AUX - esta\n",
      "siempre - ADV - siempr\n",
      "impecable - ADJ - impec\n",
      ". - PUNCT - .\n",
      "Lo - PRON - lo\n",
      "limpio - ADJ - limpi\n",
      "una - DET - una\n",
      "vez - NOUN - vez\n",
      "a - ADP - a\n",
      "la - DET - la\n",
      "semana - NOUN - seman\n",
      ". - PUNCT - .\n",
      "Es - AUX - es\n",
      "muy - ADV - muy\n",
      "fácil - ADJ - facil\n",
      "y - CCONJ - y\n",
      "cómodo - ADJ - comod\n",
      "de - ADP - de\n",
      "limpiar - VERB - limpi\n"
     ]
    }
   ],
   "source": [
    "sent = nlp(review)\n",
    "for token in sent:\n",
    "    print(token,\"-\",token.pos_,\"-\",stemmer.stem(token.text))"
   ]
  },
  {
   "cell_type": "code",
   "execution_count": 52,
   "metadata": {},
   "outputs": [
    {
     "data": {
      "text/plain": [
       "'verd'"
      ]
     },
     "execution_count": 52,
     "metadata": {},
     "output_type": "execute_result"
    }
   ],
   "source": [
    "stemmer.stem(\"verdad\")"
   ]
  },
  {
   "cell_type": "code",
   "execution_count": 42,
   "metadata": {},
   "outputs": [],
   "source": [
    "# Train_test_split\n",
    "from sklearn.model_selection import train_test_split"
   ]
  },
  {
   "cell_type": "code",
   "execution_count": 55,
   "metadata": {},
   "outputs": [
    {
     "data": {
      "text/plain": [
       "['mal compr malisim grand aparat protector pantall',\n",
       " 'no recib no recib ped no devolu',\n",
       " 'no apriet manill teng busc sistem no funcion abrazader agarr manill no apriet desliz lintern abaj',\n",
       " 'broc mantequill utilic broc menor diametr dobl fues mantequill minim presion dobl enderez part exterior amarill interior fund gris compr',\n",
       " 'no gust no gust olor viej aspect mal']"
      ]
     },
     "execution_count": 55,
     "metadata": {},
     "output_type": "execute_result"
    }
   ],
   "source": [
    "# Limpiamos todas las reviews con stemmer/lemmatizer\n",
    "clean_reviews = []\n",
    "for i in df.index:\n",
    "    rev = text_data_stem(df.review_title.iloc[i] + ' ' + df.review_body.iloc[i])\n",
    "    # rev = text_data_lemma(df.review_title.iloc[i] + ' ' + df.review_body.iloc[i])\n",
    "    clean_reviews.append(\" \".join(rev))\n",
    "clean_reviews[:5]"
   ]
  },
  {
   "cell_type": "code",
   "execution_count": 18,
   "metadata": {},
   "outputs": [
    {
     "data": {
      "text/plain": [
       "['malo compro malisimo grande aparatoso protector pantalla',\n",
       " 'no recibir no recibir pedido no devolución',\n",
       " 'no apretar manillar tener buscar sistema no funcionar abrazadera agarrar manillar no apretar deslizar linterna abajo',\n",
       " 'brocas mantequilla utilicé broca menor diámetro doblar ser mantequilla mínimo presión doblado enderezarla partir exteriormente amarillo interior fundido gris compra',\n",
       " 'no gustar no gustar olor viejo aspecto malo']"
      ]
     },
     "execution_count": 18,
     "metadata": {},
     "output_type": "execute_result"
    }
   ],
   "source": [
    "clean_revs = []\n",
    "for rev in clean_reviews:\n",
    "    clean_revs.append(\" \".join(rev))\n",
    "clean_revs[:5]"
   ]
  },
  {
   "cell_type": "code",
   "execution_count": 57,
   "metadata": {},
   "outputs": [
    {
     "name": "stderr",
     "output_type": "stream",
     "text": [
      "<ipython-input-57-cff57c63c042>:3: SettingWithCopyWarning: \n",
      "A value is trying to be set on a copy of a slice from a DataFrame.\n",
      "Try using .loc[row_indexer,col_indexer] = value instead\n",
      "\n",
      "See the caveats in the documentation: https://pandas.pydata.org/pandas-docs/stable/user_guide/indexing.html#returning-a-view-versus-a-copy\n",
      "  df['clean_revs'] = clean_reviews\n"
     ]
    },
    {
     "data": {
      "text/html": [
       "<div>\n",
       "<style scoped>\n",
       "    .dataframe tbody tr th:only-of-type {\n",
       "        vertical-align: middle;\n",
       "    }\n",
       "\n",
       "    .dataframe tbody tr th {\n",
       "        vertical-align: top;\n",
       "    }\n",
       "\n",
       "    .dataframe thead th {\n",
       "        text-align: right;\n",
       "    }\n",
       "</style>\n",
       "<table border=\"1\" class=\"dataframe\">\n",
       "  <thead>\n",
       "    <tr style=\"text-align: right;\">\n",
       "      <th></th>\n",
       "      <th>product_category</th>\n",
       "      <th>review_title</th>\n",
       "      <th>review_body</th>\n",
       "      <th>stars</th>\n",
       "      <th>clean_revs</th>\n",
       "    </tr>\n",
       "  </thead>\n",
       "  <tbody>\n",
       "    <tr>\n",
       "      <th>0</th>\n",
       "      <td>wireless</td>\n",
       "      <td>Mala compra</td>\n",
       "      <td>Malisimo, muy grande demasiado aparatoso y mal...</td>\n",
       "      <td>1</td>\n",
       "      <td>mal compr malisim grand aparat protector pantall</td>\n",
       "    </tr>\n",
       "    <tr>\n",
       "      <th>1</th>\n",
       "      <td>apparel</td>\n",
       "      <td>No lo he recibido</td>\n",
       "      <td>No he recibido el pedido no la devolución</td>\n",
       "      <td>1</td>\n",
       "      <td>no recib no recib ped no devolu</td>\n",
       "    </tr>\n",
       "    <tr>\n",
       "      <th>2</th>\n",
       "      <td>sports</td>\n",
       "      <td>Que no aprieta bien en el manillar</td>\n",
       "      <td>Tengo que buscar otro sistema, este no funcion...</td>\n",
       "      <td>1</td>\n",
       "      <td>no apriet manill teng busc sistem no funcion a...</td>\n",
       "    </tr>\n",
       "    <tr>\n",
       "      <th>3</th>\n",
       "      <td>home_improvement</td>\n",
       "      <td>Brocas de mantequilla</td>\n",
       "      <td>Utilicé las brocas de menor diámetro y se me d...</td>\n",
       "      <td>1</td>\n",
       "      <td>broc mantequill utilic broc menor diametr dobl...</td>\n",
       "    </tr>\n",
       "    <tr>\n",
       "      <th>4</th>\n",
       "      <td>beauty</td>\n",
       "      <td>No me gusta</td>\n",
       "      <td>No me gusta su olor a viejo y aspecto malo</td>\n",
       "      <td>1</td>\n",
       "      <td>no gust no gust olor viej aspect mal</td>\n",
       "    </tr>\n",
       "  </tbody>\n",
       "</table>\n",
       "</div>"
      ],
      "text/plain": [
       "   product_category                        review_title  \\\n",
       "0          wireless                         Mala compra   \n",
       "1           apparel                   No lo he recibido   \n",
       "2            sports  Que no aprieta bien en el manillar   \n",
       "3  home_improvement               Brocas de mantequilla   \n",
       "4            beauty                         No me gusta   \n",
       "\n",
       "                                         review_body  stars  \\\n",
       "0  Malisimo, muy grande demasiado aparatoso y mal...      1   \n",
       "1          No he recibido el pedido no la devolución      1   \n",
       "2  Tengo que buscar otro sistema, este no funcion...      1   \n",
       "3  Utilicé las brocas de menor diámetro y se me d...      1   \n",
       "4         No me gusta su olor a viejo y aspecto malo      1   \n",
       "\n",
       "                                          clean_revs  \n",
       "0   mal compr malisim grand aparat protector pantall  \n",
       "1                    no recib no recib ped no devolu  \n",
       "2  no apriet manill teng busc sistem no funcion a...  \n",
       "3  broc mantequill utilic broc menor diametr dobl...  \n",
       "4               no gust no gust olor viej aspect mal  "
      ]
     },
     "execution_count": 57,
     "metadata": {},
     "output_type": "execute_result"
    }
   ],
   "source": [
    "# Agregamos columna al dataset\n",
    "#df.drop(columns=['clean_rev'], inplace=True)\n",
    "df['clean_revs'] = clean_reviews\n",
    "df.head()"
   ]
  },
  {
   "cell_type": "code",
   "execution_count": 58,
   "metadata": {},
   "outputs": [],
   "source": [
    "# Guardamos dataset lemmatizado\n",
    "# df.to_json(path_or_buf='dataset_amazon_reviews_lemma.json')\n",
    "df.to_json(path_or_buf='dataset_amazon_reviews_stem.json')"
   ]
  },
  {
   "cell_type": "code",
   "execution_count": 118,
   "metadata": {},
   "outputs": [
    {
     "data": {
      "text/html": [
       "<div>\n",
       "<style scoped>\n",
       "    .dataframe tbody tr th:only-of-type {\n",
       "        vertical-align: middle;\n",
       "    }\n",
       "\n",
       "    .dataframe tbody tr th {\n",
       "        vertical-align: top;\n",
       "    }\n",
       "\n",
       "    .dataframe thead th {\n",
       "        text-align: right;\n",
       "    }\n",
       "</style>\n",
       "<table border=\"1\" class=\"dataframe\">\n",
       "  <thead>\n",
       "    <tr style=\"text-align: right;\">\n",
       "      <th></th>\n",
       "      <th>review_title</th>\n",
       "      <th>stars</th>\n",
       "      <th>clean_rev</th>\n",
       "    </tr>\n",
       "  </thead>\n",
       "  <tbody>\n",
       "    <tr>\n",
       "      <th>204995</th>\n",
       "      <td>Perfectos para lo que sirven</td>\n",
       "      <td>5</td>\n",
       "      <td>[emc, enviar, nefasto, no, casa, tirar, paquet...</td>\n",
       "    </tr>\n",
       "    <tr>\n",
       "      <th>204996</th>\n",
       "      <td>Buen vendedor, rápido y fiable.</td>\n",
       "      <td>5</td>\n",
       "      <td>[no, recomeir, calidad, pésimo, ser, peor, est...</td>\n",
       "    </tr>\n",
       "    <tr>\n",
       "      <th>204997</th>\n",
       "      <td>medallas con bonito grabado</td>\n",
       "      <td>5</td>\n",
       "      <td>[bonita, frágil, maleta, gustar, infelizmente,...</td>\n",
       "    </tr>\n",
       "    <tr>\n",
       "      <th>204998</th>\n",
       "      <td>timbre</td>\n",
       "      <td>5</td>\n",
       "      <td>[nagore, no, convencer, no, llegar, cubrir, pa...</td>\n",
       "    </tr>\n",
       "    <tr>\n",
       "      <th>204999</th>\n",
       "      <td>Auriculares sin cables de verdad</td>\n",
       "      <td>5</td>\n",
       "      <td>[malo, calidad, mucho, malo, calidad, tubo, no...</td>\n",
       "    </tr>\n",
       "  </tbody>\n",
       "</table>\n",
       "</div>"
      ],
      "text/plain": [
       "                            review_title  stars  \\\n",
       "204995      Perfectos para lo que sirven      5   \n",
       "204996   Buen vendedor, rápido y fiable.      5   \n",
       "204997       medallas con bonito grabado      5   \n",
       "204998                            timbre      5   \n",
       "204999  Auriculares sin cables de verdad      5   \n",
       "\n",
       "                                                clean_rev  \n",
       "204995  [emc, enviar, nefasto, no, casa, tirar, paquet...  \n",
       "204996  [no, recomeir, calidad, pésimo, ser, peor, est...  \n",
       "204997  [bonita, frágil, maleta, gustar, infelizmente,...  \n",
       "204998  [nagore, no, convencer, no, llegar, cubrir, pa...  \n",
       "204999  [malo, calidad, mucho, malo, calidad, tubo, no...  "
      ]
     },
     "execution_count": 118,
     "metadata": {},
     "output_type": "execute_result"
    }
   ],
   "source": [
    "#df.drop(columns=['index'])\n",
    "df[['review_title','stars','clean_revs']].tail()"
   ]
  },
  {
   "cell_type": "code",
   "execution_count": 54,
   "metadata": {},
   "outputs": [
    {
     "data": {
      "text/plain": [
       "643"
      ]
     },
     "execution_count": 54,
     "metadata": {},
     "output_type": "execute_result"
    }
   ],
   "source": [
    "import gc\n",
    "gc.collect()"
   ]
  },
  {
   "cell_type": "markdown",
   "metadata": {},
   "source": [
    "#### Probamos juntar sustantivos con adjetivos"
   ]
  },
  {
   "cell_type": "code",
   "execution_count": null,
   "metadata": {},
   "outputs": [],
   "source": [
    "def listar_sust_adj(phrase):\n",
    "    doc = nlp(phrase) # create spacy object\n",
    "    adj_list = []\n",
    "    sust_list = []\n",
    "    sust_adj_list = []\n",
    "\n",
    "    for item in doc:\n",
    "        if item.pos_ == \"ADJ\" or item.pos_ == \"VERB\": # separate nouns and not nouns\n",
    "            adj_list.append(item.text)\n",
    "        elif item.pos_ == \"NOUN\":\n",
    "            sust_list.append(item.text)\n",
    "\n",
    "    for adj in adj_list:\n",
    "        for sust in sust_list:\n",
    "        sust_adj_list.append(sust + \" \" + adj)\n",
    "        \n",
    "    sust_adj_list = [w for w in sust_adj_list if w not in sust_adj_list]\n",
    "\n",
    "    return sust_adj_list"
   ]
  },
  {
   "cell_type": "code",
   "execution_count": null,
   "metadata": {},
   "outputs": [],
   "source": []
  },
  {
   "cell_type": "markdown",
   "metadata": {},
   "source": [
    "### Librerías vectorización"
   ]
  },
  {
   "cell_type": "code",
   "execution_count": 133,
   "metadata": {},
   "outputs": [],
   "source": [
    "# Importar librería de vectorización y modelado\n",
    "from sklearn.naive_bayes import GaussianNB\n",
    "from sklearn.svm import SVC\n",
    "from sklearn.pipeline import Pipeline\n",
    "from sklearn.feature_extraction.text import TfidfVectorizer\n",
    "from sklearn.metrics import accuracy_score, classification_report, confusion_matrix\n",
    "\n",
    "# Definir el vectorizador\n",
    "# tfidf = TfidfVectorizer(tokenizer = text_data_lemma)\n",
    "max_features=1000\n",
    "tfidf = TfidfVectorizer(max_features=max_features)"
   ]
  },
  {
   "cell_type": "code",
   "execution_count": 87,
   "metadata": {},
   "outputs": [
    {
     "data": {
      "text/html": [
       "<div>\n",
       "<style scoped>\n",
       "    .dataframe tbody tr th:only-of-type {\n",
       "        vertical-align: middle;\n",
       "    }\n",
       "\n",
       "    .dataframe tbody tr th {\n",
       "        vertical-align: top;\n",
       "    }\n",
       "\n",
       "    .dataframe thead th {\n",
       "        text-align: right;\n",
       "    }\n",
       "</style>\n",
       "<table border=\"1\" class=\"dataframe\">\n",
       "  <thead>\n",
       "    <tr style=\"text-align: right;\">\n",
       "      <th></th>\n",
       "      <th>clean_rev</th>\n",
       "      <th>stars</th>\n",
       "    </tr>\n",
       "  </thead>\n",
       "  <tbody>\n",
       "    <tr>\n",
       "      <th>0</th>\n",
       "      <td>[television, nevir, nada, bueno, kar, pantalla...</td>\n",
       "      <td>1</td>\n",
       "    </tr>\n",
       "    <tr>\n",
       "      <th>1</th>\n",
       "      <td>[dinero, tirado, basura, compra, horrible, ten...</td>\n",
       "      <td>1</td>\n",
       "    </tr>\n",
       "    <tr>\n",
       "      <th>2</th>\n",
       "      <td>[llegar, unidad, obligar, comprar, obligar, co...</td>\n",
       "      <td>1</td>\n",
       "    </tr>\n",
       "    <tr>\n",
       "      <th>3</th>\n",
       "      <td>[producto, no, recibido, no, entro, descalific...</td>\n",
       "      <td>1</td>\n",
       "    </tr>\n",
       "    <tr>\n",
       "      <th>4</th>\n",
       "      <td>[devuelto, llega, co, talla, equivocado]</td>\n",
       "      <td>1</td>\n",
       "    </tr>\n",
       "  </tbody>\n",
       "</table>\n",
       "</div>"
      ],
      "text/plain": [
       "                                           clean_rev  stars\n",
       "0  [television, nevir, nada, bueno, kar, pantalla...      1\n",
       "1  [dinero, tirado, basura, compra, horrible, ten...      1\n",
       "2  [llegar, unidad, obligar, comprar, obligar, co...      1\n",
       "3  [producto, no, recibido, no, entro, descalific...      1\n",
       "4           [devuelto, llega, co, talla, equivocado]      1"
      ]
     },
     "execution_count": 87,
     "metadata": {},
     "output_type": "execute_result"
    }
   ],
   "source": [
    "df_lemm = df.loc[:,('clean_rev','stars')]\n",
    "df_lemm.head()"
   ]
  },
  {
   "cell_type": "code",
   "execution_count": 88,
   "metadata": {},
   "outputs": [
    {
     "data": {
      "text/html": [
       "<div>\n",
       "<style scoped>\n",
       "    .dataframe tbody tr th:only-of-type {\n",
       "        vertical-align: middle;\n",
       "    }\n",
       "\n",
       "    .dataframe tbody tr th {\n",
       "        vertical-align: top;\n",
       "    }\n",
       "\n",
       "    .dataframe thead th {\n",
       "        text-align: right;\n",
       "    }\n",
       "</style>\n",
       "<table border=\"1\" class=\"dataframe\">\n",
       "  <thead>\n",
       "    <tr style=\"text-align: right;\">\n",
       "      <th></th>\n",
       "      <th>clean_rev</th>\n",
       "      <th>stars</th>\n",
       "    </tr>\n",
       "  </thead>\n",
       "  <tbody>\n",
       "    <tr>\n",
       "      <th>204995</th>\n",
       "      <td>[emc, enviar, nefasto, no, casa, tirar, paquet...</td>\n",
       "      <td>5</td>\n",
       "    </tr>\n",
       "    <tr>\n",
       "      <th>204996</th>\n",
       "      <td>[no, recomeir, calidad, pésimo, ser, peor, est...</td>\n",
       "      <td>5</td>\n",
       "    </tr>\n",
       "    <tr>\n",
       "      <th>204997</th>\n",
       "      <td>[bonita, frágil, maleta, gustar, infelizmente,...</td>\n",
       "      <td>5</td>\n",
       "    </tr>\n",
       "    <tr>\n",
       "      <th>204998</th>\n",
       "      <td>[nagore, no, convencer, no, llegar, cubrir, pa...</td>\n",
       "      <td>5</td>\n",
       "    </tr>\n",
       "    <tr>\n",
       "      <th>204999</th>\n",
       "      <td>[malo, calidad, mucho, malo, calidad, tubo, no...</td>\n",
       "      <td>5</td>\n",
       "    </tr>\n",
       "  </tbody>\n",
       "</table>\n",
       "</div>"
      ],
      "text/plain": [
       "                                                clean_rev  stars\n",
       "204995  [emc, enviar, nefasto, no, casa, tirar, paquet...      5\n",
       "204996  [no, recomeir, calidad, pésimo, ser, peor, est...      5\n",
       "204997  [bonita, frágil, maleta, gustar, infelizmente,...      5\n",
       "204998  [nagore, no, convencer, no, llegar, cubrir, pa...      5\n",
       "204999  [malo, calidad, mucho, malo, calidad, tubo, no...      5"
      ]
     },
     "execution_count": 88,
     "metadata": {},
     "output_type": "execute_result"
    }
   ],
   "source": [
    "df_lemm.tail()"
   ]
  },
  {
   "cell_type": "code",
   "execution_count": 115,
   "metadata": {},
   "outputs": [],
   "source": [
    "list_revs = list(df_lemm['clean_rev'].values)\n",
    "list_revs = [\" \".join(w) for w in list_revs] # Juntamos las palabras en un solo string por cada fila\n",
    "#list_revs"
   ]
  },
  {
   "cell_type": "code",
   "execution_count": 113,
   "metadata": {},
   "outputs": [
    {
     "name": "stdout",
     "output_type": "stream",
     "text": [
      "ojalá - INTJ\n",
      "acordar - VERB\n",
      "producto - NOUN\n",
      "llegar - VERB\n",
      "septiembre - NOUN\n",
      "aproximado - ADJ\n",
      "no - ADV\n",
      "llegar - VERB\n",
      "contacte - NOUN\n",
      "vendedor - ADP\n",
      "elegir - VERB\n",
      "querer - AUX\n",
      "reembolso - NOUN\n",
      "envío - NOUN\n",
      "eleji - ADJ\n",
      "envío - ADJ\n",
      "reembolso - NOUN\n",
      "envío - NOUN\n",
      "triste - ADJ\n",
      "😟 - AUX\n"
     ]
    }
   ],
   "source": [
    "#df.clean_rev[16]\n",
    "docu = nlp(list_revs[16])\n",
    "for w in docu:\n",
    "    print(w,\"-\",w.pos_)"
   ]
  },
  {
   "cell_type": "code",
   "execution_count": 91,
   "metadata": {},
   "outputs": [
    {
     "data": {
      "text/plain": [
       "array([1, 1, 1, ..., 5, 5, 5], dtype=int64)"
      ]
     },
     "execution_count": 91,
     "metadata": {},
     "output_type": "execute_result"
    }
   ],
   "source": [
    "stars = df_lemm['stars'].values\n",
    "stars"
   ]
  },
  {
   "cell_type": "code",
   "execution_count": 134,
   "metadata": {},
   "outputs": [
    {
     "data": {
      "text/plain": [
       "<205000x1000 sparse matrix of type '<class 'numpy.float64'>'\n",
       "\twith 1853054 stored elements in Compressed Sparse Row format>"
      ]
     },
     "execution_count": 134,
     "metadata": {},
     "output_type": "execute_result"
    }
   ],
   "source": [
    "matriz_revs = tfidf.fit_transform(list_revs)\n",
    "matriz_revs"
   ]
  },
  {
   "cell_type": "code",
   "execution_count": 135,
   "metadata": {},
   "outputs": [
    {
     "data": {
      "text/plain": [
       "array([[0.        , 0.        , 0.        , ..., 0.        , 0.        ,\n",
       "        0.        ],\n",
       "       [0.        , 0.        , 0.        , ..., 0.16359107, 0.        ,\n",
       "        0.        ],\n",
       "       [0.        , 0.        , 0.        , ..., 0.        , 0.        ,\n",
       "        0.        ],\n",
       "       ...,\n",
       "       [0.        , 0.        , 0.        , ..., 0.        , 0.        ,\n",
       "        0.        ],\n",
       "       [0.        , 0.        , 0.        , ..., 0.        , 0.        ,\n",
       "        0.        ],\n",
       "       [0.        , 0.        , 0.        , ..., 0.        , 0.        ,\n",
       "        0.        ]])"
      ]
     },
     "execution_count": 135,
     "metadata": {},
     "output_type": "execute_result"
    }
   ],
   "source": [
    "matriz_revs.toarray()"
   ]
  },
  {
   "cell_type": "code",
   "execution_count": 142,
   "metadata": {},
   "outputs": [
    {
     "name": "stdout",
     "output_type": "stream",
     "text": [
      "Palabras más usadas: ['100', 'abajo', 'abierto', 'abrir', 'absoluto', 'acabado', 'acabar', 'accesorio', 'aceite', 'aceptable', 'acero', 'acierto', 'aconsejar', 'adaptador', 'adaptar', 'adecuado', 'además', 'adhesivo', 'agradable', 'agua', 'aguantar', 'agujero', 'ahora', 'aire', 'ajustado', 'ajustar', 'ajuste', 'altavoz', 'alto', 'altura', 'amarillo', 'amazon', 'amigo', 'amplio', 'ancho', 'andar', 'antiguo', 'anunciado', 'anunciar', 'anuncio', 'apagado', 'apagar', 'aparato', 'aparecer', 'aparentemente', 'apariencia', 'aparte', 'aplicación', 'aplicar', 'app']\n"
     ]
    }
   ],
   "source": [
    "# Tomamos las palabras\n",
    "all_words = tfidf.get_feature_names()\n",
    "print(\"Palabras más usadas:\",all_words[0:50])"
   ]
  },
  {
   "cell_type": "code",
   "execution_count": 26,
   "metadata": {},
   "outputs": [],
   "source": [
    "def num_to_string_stars(vec):\n",
    "    vec = vec.replace(1,'uno')\n",
    "    vec = vec.replace(2,'dos')\n",
    "    vec = vec.replace(3,'tres')\n",
    "    vec = vec.replace(4,'cuatro')\n",
    "    vec = vec.replace(5,'cinco')\n",
    "    return vec\n",
    "\n",
    "def string_to_num_stars(vec):\n",
    "    vec = vec.replace('uno',1)\n",
    "    vec = vec.replace('dos',2)\n",
    "    vec = vec.replace('tres',3)\n",
    "    vec = vec.replace('cuatro',4)\n",
    "    vec = vec.replace('cinco',5)\n",
    "    return vec\n",
    "\n",
    "def reemplazar_varios(datos, lista_valores, valor2):\n",
    "    for v in lista_valores:\n",
    "        datos = datos.replace(v,valor2)\n",
    "    return datos"
   ]
  },
  {
   "cell_type": "markdown",
   "metadata": {},
   "source": [
    "### Train-Test split"
   ]
  },
  {
   "cell_type": "markdown",
   "metadata": {},
   "source": [
    "### Naive Bayes"
   ]
  },
  {
   "cell_type": "code",
   "execution_count": null,
   "metadata": {},
   "outputs": [],
   "source": [
    "nb = GaussianNB()\n",
    "# nb.fit(xtrain,ytrain)"
   ]
  },
  {
   "cell_type": "markdown",
   "metadata": {},
   "source": [
    "### SVC"
   ]
  },
  {
   "cell_type": "code",
   "execution_count": 14,
   "metadata": {},
   "outputs": [],
   "source": [
    "# Crear el CLASIFICADOR\n",
    "clf_linear = SVC(kernel='linear')"
   ]
  },
  {
   "cell_type": "code",
   "execution_count": 30,
   "metadata": {},
   "outputs": [],
   "source": [
    "# Crear los vectores de datos de entrenamiento\n",
    "X_train = df['review_body']\n",
    "y_train = df['stars']\n",
    "\n",
    "y_train1 = reemplazar_varios(y_train, [2,3,4,5], 0) # Para clase 1 estrella\n",
    "y_train2 = reemplazar_varios(y_train, [1,3,4,5], 0) # Para clase 2 estrellas\n",
    "y_train3 = reemplazar_varios(y_train, [1,2,4,5], 0) # Para clase 3 estrellas\n",
    "y_train4 = reemplazar_varios(y_train, [1,2,3,5], 0) # Para clase 4 estrellas\n",
    "y_train5 = reemplazar_varios(y_train, [1,2,3,4], 0) # Para clase 5 estrellas"
   ]
  },
  {
   "cell_type": "code",
   "execution_count": 32,
   "metadata": {},
   "outputs": [],
   "source": [
    "# Crear los vectores de datos de prueba\n",
    "test_data = pd.read_json(\"dataset_amazon/dataset_es_test.json\", lines = True)\n",
    "test_data = test_data[['product_category','review_title','review_body','stars']]\n",
    "X_test = test_data['review_body']\n",
    "y_test = test_data['stars']\n",
    "\n",
    "y_test1 = reemplazar_varios(y_test, [2,3,4,5], 0) # Para clase 1 estrella\n",
    "y_test2 = reemplazar_varios(y_test, [1,3,4,5], 0) # Para clase 2 estrellas\n",
    "y_test3 = reemplazar_varios(y_test, [1,2,4,5], 0) # Para clase 3 estrellas\n",
    "y_test4 = reemplazar_varios(y_test, [1,2,3,5], 0) # Para clase 4 estrellas\n",
    "y_test5= reemplazar_varios(y_test, [1,2,3,4], 0) # Para clase 5 estrellas"
   ]
  },
  {
   "cell_type": "code",
   "execution_count": 26,
   "metadata": {},
   "outputs": [],
   "source": [
    "def ver_cant(train,test):\n",
    "    print(\"Cantidad de datos de entrenamiento:\", train.shape)\n",
    "    print(\"Cantidad de datos de prueba:\", test.shape)"
   ]
  },
  {
   "cell_type": "code",
   "execution_count": 34,
   "metadata": {},
   "outputs": [],
   "source": [
    "# Crear un pipeline para tranformar datos y luego alpicarlos al modelo\n",
    "clf1 = Pipeline([('tfidf', tfidf), ('clf', clf_linear)])\n",
    "clf2 = Pipeline([('tfidf', tfidf), ('clf', clf_linear)])\n",
    "clf3 = Pipeline([('tfidf', tfidf), ('clf', clf_linear)])\n",
    "clf4 = Pipeline([('tfidf', tfidf), ('clf', clf_linear)])\n",
    "clf5 = Pipeline([('tfidf', tfidf), ('clf', clf_linear)])"
   ]
  },
  {
   "cell_type": "code",
   "execution_count": 36,
   "metadata": {},
   "outputs": [],
   "source": [
    "# Evitar que el formato se tome como unknown\n",
    "y_train1 = y_train.astype('int')\n",
    "y_test1 = y_test.astype('int')"
   ]
  },
  {
   "cell_type": "markdown",
   "metadata": {},
   "source": [
    "#### Entrenamos modelo para clase 1\n",
    "Tomar dataset original, poner un 1 en la clase a evaluar y un cero en la que no es"
   ]
  },
  {
   "cell_type": "code",
   "execution_count": null,
   "metadata": {},
   "outputs": [],
   "source": [
    "#Entrenar el clasificador\n",
    "clf1.fit(X_train, y_train1)"
   ]
  },
  {
   "cell_type": "code",
   "execution_count": null,
   "metadata": {},
   "outputs": [],
   "source": []
  },
  {
   "cell_type": "code",
   "execution_count": null,
   "metadata": {},
   "outputs": [],
   "source": []
  },
  {
   "cell_type": "code",
   "execution_count": null,
   "metadata": {},
   "outputs": [],
   "source": []
  }
 ],
 "metadata": {
  "kernelspec": {
   "display_name": "Python 3",
   "language": "python",
   "name": "python3"
  },
  "language_info": {
   "codemirror_mode": {
    "name": "ipython",
    "version": 3
   },
   "file_extension": ".py",
   "mimetype": "text/x-python",
   "name": "python",
   "nbconvert_exporter": "python",
   "pygments_lexer": "ipython3",
   "version": "3.8.6"
  }
 },
 "nbformat": 4,
 "nbformat_minor": 4
}
