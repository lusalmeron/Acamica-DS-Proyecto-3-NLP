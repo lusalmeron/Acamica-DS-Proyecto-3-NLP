{
 "cells": [
  {
   "cell_type": "markdown",
   "metadata": {},
   "source": [
    "# Procesamiento de datasets\n",
    "En este notebook están agrupados los procedimientos por los cuales se importaron, concatenaron y procesaron los sets de datos originalmente provistos:\n",
    "- `dataset_es_dev.json`\n",
    "- `dataset_es_train.json`\n",
    "- `dataset_es_test.json`\n",
    "\n",
    "Para generar sets de datos con los atributos relevantes y las reviews lemmatizadas y stemmatizadas, segpun el caso:\n",
    "- `dataset_amazon_reviews_lemma.json`\n",
    "- `dataset_amazon_reviews_stem.json`\n",
    "\n",
    "De esta forma, se ahorra tiempo en la ejecución del notebook que resulve la consigna pedida.\n",
    "\n",
    "### Importar las librerías necesarias"
   ]
  },
  {
   "cell_type": "code",
   "execution_count": 1,
   "metadata": {},
   "outputs": [],
   "source": [
    "import pandas as pd\n",
    "import numpy as np\n",
    "\n",
    "# Garbage collector para optimizar recursos\n",
    "import gc"
   ]
  },
  {
   "cell_type": "code",
   "execution_count": 2,
   "metadata": {},
   "outputs": [],
   "source": [
    "# Previamente\n",
    "## python -m spacy download es\n",
    "## python -m spacy download es_core_news_sm\n",
    "\n",
    "import spacy # https://spacy.io/usage/models\n",
    "nlp = spacy.load('es_core_news_sm')\n",
    "\n",
    "#Stop Words de es_core_news_sm\n",
    "from spacy.lang.es.stop_words import STOP_WORDS\n",
    "stopwords_spacy = list(STOP_WORDS)\n",
    "\n",
    "# Quitamos de las stopwords palabras como 'no', 'bueno', 'buena' que nos pueden ser últiles para predecir\n",
    "stopwords_spacy.remove('no') # En los comentarios negativos es muy repetida\n",
    "stopwords_spacy.remove('bueno')\n",
    "stopwords_spacy.remove('buena')\n",
    "stopwords_spacy.remove('tarde')\n",
    "stopwords_spacy.remove('temprano')\n",
    "stopwords_spacy.remove('día')\n",
    "stopwords_spacy.remove('días')\n",
    "stopwords_spacy.remove('dia')\n",
    "stopwords_spacy.remove('dias')\n",
    "stopwords_spacy.remove('grandes')\n",
    "stopwords_spacy.remove('general')"
   ]
  },
  {
   "cell_type": "code",
   "execution_count": 3,
   "metadata": {},
   "outputs": [],
   "source": [
    "import nltk\n",
    "\n",
    "#Stop Words de nltk\n",
    "from nltk.corpus import stopwords\n",
    "stopwords_nltk = set(stopwords.words('spanish'))\n",
    "\n",
    "# Quitamos de las stopwords la palabra 'no', que nos puede ser últil para predecir\n",
    "stopwords_nltk.remove('no')\n",
    "\n",
    "import re\n",
    "from nltk.tokenize import RegexpTokenizer"
   ]
  },
  {
   "cell_type": "code",
   "execution_count": 4,
   "metadata": {},
   "outputs": [],
   "source": [
    "# Clase para personalizar las impresiones de consola\n",
    "class color:\n",
    "   PURPLE = '\\033[95m'\n",
    "   CYAN = '\\033[96m'\n",
    "   DARKCYAN = '\\033[36m'\n",
    "   BLUE = '\\033[94m'\n",
    "   GREEN = '\\033[92m'\n",
    "   YELLOW = '\\033[93m'\n",
    "   RED = '\\033[91m'\n",
    "   BOLD = '\\033[1m'\n",
    "   UNDERLINE = '\\033[4m'\n",
    "   END = '\\033[0m'"
   ]
  },
  {
   "cell_type": "markdown",
   "metadata": {},
   "source": [
    "### Importar y concatenar los datasets"
   ]
  },
  {
   "cell_type": "code",
   "execution_count": 5,
   "metadata": {},
   "outputs": [
    {
     "name": "stdout",
     "output_type": "stream",
     "text": [
      "- Cantidad de filas del set de \u001b[93mdesarrollo\u001b[0m: 5000\n",
      "- Cantidad de filas del set de \u001b[96mentrenamiento\u001b[0m: 200000\n",
      "- Cantidad de filas del set de \u001b[92mprueba\u001b[0m: 5000\n"
     ]
    }
   ],
   "source": [
    "# Importamos dataset de desarrollo\n",
    "data_dev = pd.read_json(\"dataset_amazon/dataset_es_dev.json\", lines = True)\n",
    "print(\"- Cantidad de filas del set de \" + color.YELLOW + \"desarrollo\" + color.END + \":\", data_dev.shape[0])\n",
    "\n",
    "# Importamos dataset de entrenamiento\n",
    "data_train = pd.read_json(\"dataset_amazon/dataset_es_train.json\", lines = True)\n",
    "print(\"- Cantidad de filas del set de \" + color.CYAN + \"entrenamiento\" + color.END + \":\", data_train.shape[0])\n",
    "\n",
    "# Importamos dataset de prueba\n",
    "data_test = pd.read_json(\"dataset_amazon/dataset_es_test.json\", lines = True)\n",
    "print(\"- Cantidad de filas del set de \" + color.GREEN + \"prueba\" + color.END + \":\", data_test.shape[0])"
   ]
  },
  {
   "cell_type": "code",
   "execution_count": 6,
   "metadata": {},
   "outputs": [
    {
     "data": {
      "text/html": [
       "<div>\n",
       "<style scoped>\n",
       "    .dataframe tbody tr th:only-of-type {\n",
       "        vertical-align: middle;\n",
       "    }\n",
       "\n",
       "    .dataframe tbody tr th {\n",
       "        vertical-align: top;\n",
       "    }\n",
       "\n",
       "    .dataframe thead th {\n",
       "        text-align: right;\n",
       "    }\n",
       "</style>\n",
       "<table border=\"1\" class=\"dataframe\">\n",
       "  <thead>\n",
       "    <tr style=\"text-align: right;\">\n",
       "      <th></th>\n",
       "      <th>review_id</th>\n",
       "      <th>product_id</th>\n",
       "      <th>reviewer_id</th>\n",
       "      <th>stars</th>\n",
       "      <th>review_body</th>\n",
       "      <th>review_title</th>\n",
       "      <th>language</th>\n",
       "      <th>product_category</th>\n",
       "    </tr>\n",
       "  </thead>\n",
       "  <tbody>\n",
       "    <tr>\n",
       "      <th>209995</th>\n",
       "      <td>es_0685611</td>\n",
       "      <td>product_es_0919143</td>\n",
       "      <td>reviewer_es_0461769</td>\n",
       "      <td>5</td>\n",
       "      <td>Para lo que cuesta es perfecto porque cumple s...</td>\n",
       "      <td>Perfectos para lo que sirven</td>\n",
       "      <td>es</td>\n",
       "      <td>wireless</td>\n",
       "    </tr>\n",
       "    <tr>\n",
       "      <th>209996</th>\n",
       "      <td>es_0638242</td>\n",
       "      <td>product_es_0636134</td>\n",
       "      <td>reviewer_es_0214562</td>\n",
       "      <td>5</td>\n",
       "      <td>Material muy flexible y cómodo, acorde a la de...</td>\n",
       "      <td>Buen vendedor, rápido y fiable.</td>\n",
       "      <td>es</td>\n",
       "      <td>wireless</td>\n",
       "    </tr>\n",
       "    <tr>\n",
       "      <th>209997</th>\n",
       "      <td>es_0760108</td>\n",
       "      <td>product_es_0078583</td>\n",
       "      <td>reviewer_es_0043609</td>\n",
       "      <td>5</td>\n",
       "      <td>Se ve bien el grabado</td>\n",
       "      <td>medallas con bonito grabado</td>\n",
       "      <td>es</td>\n",
       "      <td>home</td>\n",
       "    </tr>\n",
       "    <tr>\n",
       "      <th>209998</th>\n",
       "      <td>es_0070806</td>\n",
       "      <td>product_es_0359350</td>\n",
       "      <td>reviewer_es_0258717</td>\n",
       "      <td>5</td>\n",
       "      <td>lo compré para mi bici pero finalmente se lo h...</td>\n",
       "      <td>timbre</td>\n",
       "      <td>es</td>\n",
       "      <td>sports</td>\n",
       "    </tr>\n",
       "    <tr>\n",
       "      <th>209999</th>\n",
       "      <td>es_0794544</td>\n",
       "      <td>product_es_0130307</td>\n",
       "      <td>reviewer_es_0651938</td>\n",
       "      <td>5</td>\n",
       "      <td>Pues este tipo de cascos si que son inalambric...</td>\n",
       "      <td>Auriculares sin cables de verdad</td>\n",
       "      <td>es</td>\n",
       "      <td>electronics</td>\n",
       "    </tr>\n",
       "  </tbody>\n",
       "</table>\n",
       "</div>"
      ],
      "text/plain": [
       "         review_id          product_id          reviewer_id  stars  \\\n",
       "209995  es_0685611  product_es_0919143  reviewer_es_0461769      5   \n",
       "209996  es_0638242  product_es_0636134  reviewer_es_0214562      5   \n",
       "209997  es_0760108  product_es_0078583  reviewer_es_0043609      5   \n",
       "209998  es_0070806  product_es_0359350  reviewer_es_0258717      5   \n",
       "209999  es_0794544  product_es_0130307  reviewer_es_0651938      5   \n",
       "\n",
       "                                              review_body  \\\n",
       "209995  Para lo que cuesta es perfecto porque cumple s...   \n",
       "209996  Material muy flexible y cómodo, acorde a la de...   \n",
       "209997                              Se ve bien el grabado   \n",
       "209998  lo compré para mi bici pero finalmente se lo h...   \n",
       "209999  Pues este tipo de cascos si que son inalambric...   \n",
       "\n",
       "                            review_title language product_category  \n",
       "209995      Perfectos para lo que sirven       es         wireless  \n",
       "209996   Buen vendedor, rápido y fiable.       es         wireless  \n",
       "209997       medallas con bonito grabado       es             home  \n",
       "209998                            timbre       es           sports  \n",
       "209999  Auriculares sin cables de verdad       es      electronics  "
      ]
     },
     "execution_count": 6,
     "metadata": {},
     "output_type": "execute_result"
    }
   ],
   "source": [
    "# Concatenamos todos\n",
    "data = pd.concat([data_dev,data_train,data_test])\n",
    "data = data.reset_index(drop=True)\n",
    "data.tail()"
   ]
  },
  {
   "cell_type": "code",
   "execution_count": 7,
   "metadata": {},
   "outputs": [
    {
     "data": {
      "text/plain": [
       "17"
      ]
     },
     "execution_count": 7,
     "metadata": {},
     "output_type": "execute_result"
    }
   ],
   "source": [
    "# Liberamos espacio de memoria\n",
    "del(data_dev)\n",
    "del(data_train)\n",
    "del(data_test)\n",
    "gc.collect()"
   ]
  },
  {
   "cell_type": "markdown",
   "metadata": {},
   "source": [
    "### Filtrado de columnas\n",
    "Nos quedamos con las columnas del dataset que son relevantes para predecir la valoración en general. Por eso se descartan las columnas de id de usuario y producto. La de categoría nos puede servir para relacionar palabras. La del idioma es redundante."
   ]
  },
  {
   "cell_type": "code",
   "execution_count": 8,
   "metadata": {},
   "outputs": [
    {
     "data": {
      "text/html": [
       "<div>\n",
       "<style scoped>\n",
       "    .dataframe tbody tr th:only-of-type {\n",
       "        vertical-align: middle;\n",
       "    }\n",
       "\n",
       "    .dataframe tbody tr th {\n",
       "        vertical-align: top;\n",
       "    }\n",
       "\n",
       "    .dataframe thead th {\n",
       "        text-align: right;\n",
       "    }\n",
       "</style>\n",
       "<table border=\"1\" class=\"dataframe\">\n",
       "  <thead>\n",
       "    <tr style=\"text-align: right;\">\n",
       "      <th></th>\n",
       "      <th>product_category</th>\n",
       "      <th>review_title</th>\n",
       "      <th>review_body</th>\n",
       "      <th>stars</th>\n",
       "    </tr>\n",
       "  </thead>\n",
       "  <tbody>\n",
       "    <tr>\n",
       "      <th>0</th>\n",
       "      <td>wireless</td>\n",
       "      <td>Mala compra</td>\n",
       "      <td>Malisimo, muy grande demasiado aparatoso y mal...</td>\n",
       "      <td>1</td>\n",
       "    </tr>\n",
       "    <tr>\n",
       "      <th>1</th>\n",
       "      <td>apparel</td>\n",
       "      <td>No lo he recibido</td>\n",
       "      <td>No he recibido el pedido no la devolución</td>\n",
       "      <td>1</td>\n",
       "    </tr>\n",
       "    <tr>\n",
       "      <th>2</th>\n",
       "      <td>sports</td>\n",
       "      <td>Que no aprieta bien en el manillar</td>\n",
       "      <td>Tengo que buscar otro sistema, este no funcion...</td>\n",
       "      <td>1</td>\n",
       "    </tr>\n",
       "    <tr>\n",
       "      <th>3</th>\n",
       "      <td>home_improvement</td>\n",
       "      <td>Brocas de mantequilla</td>\n",
       "      <td>Utilicé las brocas de menor diámetro y se me d...</td>\n",
       "      <td>1</td>\n",
       "    </tr>\n",
       "    <tr>\n",
       "      <th>4</th>\n",
       "      <td>beauty</td>\n",
       "      <td>No me gusta</td>\n",
       "      <td>No me gusta su olor a viejo y aspecto malo</td>\n",
       "      <td>1</td>\n",
       "    </tr>\n",
       "  </tbody>\n",
       "</table>\n",
       "</div>"
      ],
      "text/plain": [
       "   product_category                        review_title  \\\n",
       "0          wireless                         Mala compra   \n",
       "1           apparel                   No lo he recibido   \n",
       "2            sports  Que no aprieta bien en el manillar   \n",
       "3  home_improvement               Brocas de mantequilla   \n",
       "4            beauty                         No me gusta   \n",
       "\n",
       "                                         review_body  stars  \n",
       "0  Malisimo, muy grande demasiado aparatoso y mal...      1  \n",
       "1          No he recibido el pedido no la devolución      1  \n",
       "2  Tengo que buscar otro sistema, este no funcion...      1  \n",
       "3  Utilicé las brocas de menor diámetro y se me d...      1  \n",
       "4         No me gusta su olor a viejo y aspecto malo      1  "
      ]
     },
     "execution_count": 8,
     "metadata": {},
     "output_type": "execute_result"
    }
   ],
   "source": [
    "df = data[['product_category','review_title','review_body','stars']]\n",
    "df.head()"
   ]
  },
  {
   "cell_type": "markdown",
   "metadata": {},
   "source": [
    "### Limpieza de datos"
   ]
  },
  {
   "cell_type": "code",
   "execution_count": 9,
   "metadata": {},
   "outputs": [],
   "source": [
    "#Constante de signos de puntuación\n",
    "import string\n",
    "puntua = string.punctuation + '¡¿...'\n",
    "excluded_pos = ['SCONJ','CCONJ','NUM','PUNCT','PRON','DET','ADP','AUX','X']"
   ]
  },
  {
   "cell_type": "code",
   "execution_count": 10,
   "metadata": {},
   "outputs": [],
   "source": [
    "#Función para limpieza de datos con lemmatizer\n",
    "def text_data_lemma(sentence):\n",
    "    doc = nlp(sentence)\n",
    "    \n",
    "    clean_tokens = []\n",
    "    for token in doc:\n",
    "        if (token.pos_ not in excluded_pos and str(token) not in stopwords_spacy and len(token.text)>2): \n",
    "            temp = token.lemma_.strip()\n",
    "            clean_tokens.append(temp.lower())\n",
    "    \n",
    "    return clean_tokens"
   ]
  },
  {
   "cell_type": "code",
   "execution_count": 11,
   "metadata": {},
   "outputs": [],
   "source": [
    "from nltk.stem.snowball import SpanishStemmer # Permite stemmizar palabras en español\n",
    "stemmer = SpanishStemmer()\n",
    "\n",
    "#Función para limpieza de datos con stemmer\n",
    "def text_data_stem(sentence):\n",
    "    doc = nlp(sentence)\n",
    "    \n",
    "    clean_tokens = []\n",
    "    for token in doc:\n",
    "        if (token.pos_ not in excluded_pos and str(token) not in stopwords_spacy and len(token.text)>2): \n",
    "            temp = stemmer.stem(token.text).strip()\n",
    "            clean_tokens.append(temp.lower())\n",
    "    \n",
    "    return clean_tokens"
   ]
  },
  {
   "cell_type": "markdown",
   "metadata": {},
   "source": [
    "#### Lemmatización (40 min aprox)"
   ]
  },
  {
   "cell_type": "code",
   "execution_count": 12,
   "metadata": {},
   "outputs": [
    {
     "data": {
      "text/plain": [
       "['malo compro malisimo grande aparatoso protector pantalla',\n",
       " 'recibir recibir pedido devolución',\n",
       " 'apretar manillar tener buscar sistema funcionar abrazadera agarrar manillar apretar deslizar linterna abajo',\n",
       " 'brocas mantequilla utilicé broca menor diámetro doblar ser mantequilla mínimo presión doblado enderezarla partir exteriormente amarillo interior fundido gris compra',\n",
       " 'gustar gustar olor viejo aspecto malo']"
      ]
     },
     "execution_count": 12,
     "metadata": {},
     "output_type": "execute_result"
    }
   ],
   "source": [
    "# Limpiamos todas las reviews con lemmatizer\n",
    "reviews_lemma = []\n",
    "for i in df.index:\n",
    "    rev = text_data_lemma(df.review_title.iloc[i] + ' ' + df.review_body.iloc[i])\n",
    "    reviews_lemma.append(\" \".join(rev))\n",
    "reviews_lemma[:5]"
   ]
  },
  {
   "cell_type": "markdown",
   "metadata": {},
   "source": [
    "#### Stemmización (40 min aprox)"
   ]
  },
  {
   "cell_type": "code",
   "execution_count": 13,
   "metadata": {},
   "outputs": [
    {
     "data": {
      "text/plain": [
       "['mal compr malisim grand aparat protector pantall',\n",
       " 'recib recib ped devolu',\n",
       " 'apriet manill teng busc sistem funcion abrazader agarr manill apriet desliz lintern abaj',\n",
       " 'broc mantequill utilic broc menor diametr dobl fues mantequill minim presion dobl enderez part exterior amarill interior fund gris compr',\n",
       " 'gust gust olor viej aspect mal']"
      ]
     },
     "execution_count": 13,
     "metadata": {},
     "output_type": "execute_result"
    }
   ],
   "source": [
    "# Limpiamos todas las reviews con stemmizer\n",
    "reviews_stem = []\n",
    "for i in df.index:\n",
    "    rev = text_data_stem(df.review_title.iloc[i] + ' ' + df.review_body.iloc[i])\n",
    "    reviews_stem.append(\" \".join(rev))\n",
    "reviews_stem[:5]"
   ]
  },
  {
   "cell_type": "markdown",
   "metadata": {},
   "source": [
    "### Guardar nuevos datos en achivo json"
   ]
  },
  {
   "cell_type": "code",
   "execution_count": 14,
   "metadata": {},
   "outputs": [
    {
     "name": "stderr",
     "output_type": "stream",
     "text": [
      "<ipython-input-14-a1af3c2ac77a>:2: SettingWithCopyWarning: \n",
      "A value is trying to be set on a copy of a slice from a DataFrame.\n",
      "Try using .loc[row_indexer,col_indexer] = value instead\n",
      "\n",
      "See the caveats in the documentation: https://pandas.pydata.org/pandas-docs/stable/user_guide/indexing.html#returning-a-view-versus-a-copy\n",
      "  df['revs_lemma'] = reviews_lemma\n",
      "<ipython-input-14-a1af3c2ac77a>:3: SettingWithCopyWarning: \n",
      "A value is trying to be set on a copy of a slice from a DataFrame.\n",
      "Try using .loc[row_indexer,col_indexer] = value instead\n",
      "\n",
      "See the caveats in the documentation: https://pandas.pydata.org/pandas-docs/stable/user_guide/indexing.html#returning-a-view-versus-a-copy\n",
      "  df['revs_stem'] = reviews_stem\n"
     ]
    },
    {
     "data": {
      "text/html": [
       "<div>\n",
       "<style scoped>\n",
       "    .dataframe tbody tr th:only-of-type {\n",
       "        vertical-align: middle;\n",
       "    }\n",
       "\n",
       "    .dataframe tbody tr th {\n",
       "        vertical-align: top;\n",
       "    }\n",
       "\n",
       "    .dataframe thead th {\n",
       "        text-align: right;\n",
       "    }\n",
       "</style>\n",
       "<table border=\"1\" class=\"dataframe\">\n",
       "  <thead>\n",
       "    <tr style=\"text-align: right;\">\n",
       "      <th></th>\n",
       "      <th>product_category</th>\n",
       "      <th>review_title</th>\n",
       "      <th>review_body</th>\n",
       "      <th>stars</th>\n",
       "      <th>revs_lemma</th>\n",
       "      <th>revs_stem</th>\n",
       "    </tr>\n",
       "  </thead>\n",
       "  <tbody>\n",
       "    <tr>\n",
       "      <th>0</th>\n",
       "      <td>wireless</td>\n",
       "      <td>Mala compra</td>\n",
       "      <td>Malisimo, muy grande demasiado aparatoso y mal...</td>\n",
       "      <td>1</td>\n",
       "      <td>malo compro malisimo grande aparatoso protecto...</td>\n",
       "      <td>mal compr malisim grand aparat protector pantall</td>\n",
       "    </tr>\n",
       "    <tr>\n",
       "      <th>1</th>\n",
       "      <td>apparel</td>\n",
       "      <td>No lo he recibido</td>\n",
       "      <td>No he recibido el pedido no la devolución</td>\n",
       "      <td>1</td>\n",
       "      <td>recibir recibir pedido devolución</td>\n",
       "      <td>recib recib ped devolu</td>\n",
       "    </tr>\n",
       "    <tr>\n",
       "      <th>2</th>\n",
       "      <td>sports</td>\n",
       "      <td>Que no aprieta bien en el manillar</td>\n",
       "      <td>Tengo que buscar otro sistema, este no funcion...</td>\n",
       "      <td>1</td>\n",
       "      <td>apretar manillar tener buscar sistema funciona...</td>\n",
       "      <td>apriet manill teng busc sistem funcion abrazad...</td>\n",
       "    </tr>\n",
       "    <tr>\n",
       "      <th>3</th>\n",
       "      <td>home_improvement</td>\n",
       "      <td>Brocas de mantequilla</td>\n",
       "      <td>Utilicé las brocas de menor diámetro y se me d...</td>\n",
       "      <td>1</td>\n",
       "      <td>brocas mantequilla utilicé broca menor diámetr...</td>\n",
       "      <td>broc mantequill utilic broc menor diametr dobl...</td>\n",
       "    </tr>\n",
       "    <tr>\n",
       "      <th>4</th>\n",
       "      <td>beauty</td>\n",
       "      <td>No me gusta</td>\n",
       "      <td>No me gusta su olor a viejo y aspecto malo</td>\n",
       "      <td>1</td>\n",
       "      <td>gustar gustar olor viejo aspecto malo</td>\n",
       "      <td>gust gust olor viej aspect mal</td>\n",
       "    </tr>\n",
       "  </tbody>\n",
       "</table>\n",
       "</div>"
      ],
      "text/plain": [
       "   product_category                        review_title  \\\n",
       "0          wireless                         Mala compra   \n",
       "1           apparel                   No lo he recibido   \n",
       "2            sports  Que no aprieta bien en el manillar   \n",
       "3  home_improvement               Brocas de mantequilla   \n",
       "4            beauty                         No me gusta   \n",
       "\n",
       "                                         review_body  stars  \\\n",
       "0  Malisimo, muy grande demasiado aparatoso y mal...      1   \n",
       "1          No he recibido el pedido no la devolución      1   \n",
       "2  Tengo que buscar otro sistema, este no funcion...      1   \n",
       "3  Utilicé las brocas de menor diámetro y se me d...      1   \n",
       "4         No me gusta su olor a viejo y aspecto malo      1   \n",
       "\n",
       "                                          revs_lemma  \\\n",
       "0  malo compro malisimo grande aparatoso protecto...   \n",
       "1                  recibir recibir pedido devolución   \n",
       "2  apretar manillar tener buscar sistema funciona...   \n",
       "3  brocas mantequilla utilicé broca menor diámetr...   \n",
       "4              gustar gustar olor viejo aspecto malo   \n",
       "\n",
       "                                           revs_stem  \n",
       "0   mal compr malisim grand aparat protector pantall  \n",
       "1                             recib recib ped devolu  \n",
       "2  apriet manill teng busc sistem funcion abrazad...  \n",
       "3  broc mantequill utilic broc menor diametr dobl...  \n",
       "4                     gust gust olor viej aspect mal  "
      ]
     },
     "execution_count": 14,
     "metadata": {},
     "output_type": "execute_result"
    }
   ],
   "source": [
    "# Agregamos columna al dataset\n",
    "df['revs_lemma'] = reviews_lemma\n",
    "df['revs_stem'] = reviews_stem\n",
    "df.head()"
   ]
  },
  {
   "cell_type": "code",
   "execution_count": 15,
   "metadata": {},
   "outputs": [],
   "source": [
    "# Guardamos dataset lemmatizado\n",
    "df.to_json(path_or_buf='dataset_amazon_clean.json')"
   ]
  },
  {
   "cell_type": "code",
   "execution_count": null,
   "metadata": {},
   "outputs": [],
   "source": []
  }
 ],
 "metadata": {
  "kernelspec": {
   "display_name": "Python 3",
   "language": "python",
   "name": "python3"
  },
  "language_info": {
   "codemirror_mode": {
    "name": "ipython",
    "version": 3
   },
   "file_extension": ".py",
   "mimetype": "text/x-python",
   "name": "python",
   "nbconvert_exporter": "python",
   "pygments_lexer": "ipython3",
   "version": "3.8.6"
  }
 },
 "nbformat": 4,
 "nbformat_minor": 4
}
